{
 "cells": [
  {
   "cell_type": "markdown",
   "id": "1b1c69ec",
   "metadata": {},
   "source": [
    "#1\\. What is the name of the feature responsible for generating Regex\n",
    "objects?"
   ]
  },
  {
   "cell_type": "markdown",
   "id": "7654ca6c",
   "metadata": {},
   "source": [
    "re.compile()"
   ]
  },
  {
   "cell_type": "markdown",
   "id": "27150c29",
   "metadata": {},
   "source": [
    "#2\\. Why do raw strings often appear in Regex objects?"
   ]
  },
  {
   "cell_type": "markdown",
   "id": "249b0c23",
   "metadata": {},
   "source": [
    "Raw string notation keeps regular expression meaningful and confusion free. Without it every backslash(' \\ ') in regular expression would have to be prefixed with another one to escape it."
   ]
  },
  {
   "cell_type": "markdown",
   "id": "71ff59fc",
   "metadata": {},
   "source": [
    "#3\\. What is the return value of the search() method?"
   ]
  },
  {
   "cell_type": "markdown",
   "id": "848d37ce",
   "metadata": {},
   "source": [
    "It returns a match object if there is a match else returns none"
   ]
  },
  {
   "cell_type": "markdown",
   "id": "664c98fc",
   "metadata": {},
   "source": [
    "#4\\. From a Match item, how do you get the actual strings that match the\n",
    "pattern?"
   ]
  },
  {
   "cell_type": "markdown",
   "id": "720cad96",
   "metadata": {},
   "source": [
    "group() method returns the actual string that match the pattern."
   ]
  },
  {
   "cell_type": "markdown",
   "id": "07e8ecb4",
   "metadata": {},
   "source": [
    "#5\\. In the regex which created from the\n",
    "r'(\\\\d\\\\d\\\\d)-(\\\\d\\\\d\\\\d-\\\\d\\\\d\\\\d\\\\d)', what does group zero cover?\n",
    "Group 2? Group 1?"
   ]
  },
  {
   "cell_type": "markdown",
   "id": "251346b4",
   "metadata": {},
   "source": [
    "group 0 covers (\\d\\d\\d)-(\\d\\d\\d-\\d\\d\\d\\d)"
   ]
  },
  {
   "cell_type": "markdown",
   "id": "d7fb6929",
   "metadata": {},
   "source": [
    "#6\\. In standard expression syntax, parentheses and intervals have\n",
    "distinct meanings. How can you tell a regex that you want it to fit real\n",
    "parentheses and periods?"
   ]
  },
  {
   "cell_type": "markdown",
   "id": "64d5f7fd",
   "metadata": {},
   "source": [
    "\\.,  \\(,  \\)"
   ]
  },
  {
   "cell_type": "markdown",
   "id": "b0b64eaa",
   "metadata": {},
   "source": [
    "#7\\. The findall() method returns a string list or a list of string\n",
    "tuples. What causes it to return one of the two options?"
   ]
  },
  {
   "cell_type": "markdown",
   "id": "2b3cabec",
   "metadata": {},
   "source": [
    " findall() returns list of strings. If there is several groups in the expression, findall() returns list of tuple of strings."
   ]
  },
  {
   "cell_type": "markdown",
   "id": "de6c1dee",
   "metadata": {},
   "source": [
    "#8\\. In standard expressions, what does the \\| character mean?"
   ]
  },
  {
   "cell_type": "markdown",
   "id": "b962bf95",
   "metadata": {},
   "source": [
    "either or"
   ]
  },
  {
   "cell_type": "markdown",
   "id": "34ba130a",
   "metadata": {},
   "source": [
    "#9\\. In regular expressions, what does the character stand for?"
   ]
  },
  {
   "cell_type": "markdown",
   "id": "4f53587a",
   "metadata": {},
   "source": [
    "Zero or one occerences"
   ]
  },
  {
   "cell_type": "markdown",
   "id": "cf815156",
   "metadata": {},
   "source": [
    "#10.In regular expressions, what is the difference between the + and \\*\n",
    "characters?"
   ]
  },
  {
   "cell_type": "markdown",
   "id": "32ac9068",
   "metadata": {},
   "source": [
    "' + ' refers one or more occurences\n",
    "' * ' refers zero or more occurences"
   ]
  },
  {
   "cell_type": "markdown",
   "id": "fea0a2a4",
   "metadata": {},
   "source": [
    "#11\\. What is the difference between {4} and {4,5} in regular expression?"
   ]
  },
  {
   "cell_type": "markdown",
   "id": "297726c9",
   "metadata": {},
   "source": [
    "{4} means preceding character is to be repeated 4 times\n",
    "{4,5} means preceding character is repeated minimum 4 times and maximum 5 times"
   ]
  },
  {
   "cell_type": "markdown",
   "id": "59e016aa",
   "metadata": {},
   "source": [
    "#12\\. What do you mean by the \\\\d, \\\\w, and \\\\s shorthand character\n",
    "classes signify in regular expressions?"
   ]
  },
  {
   "cell_type": "markdown",
   "id": "cd7e12c7",
   "metadata": {},
   "source": [
    "\\d returns a match where string contains digit(number from 0-9)\n",
    "\\w returns a match where string contains any word character\n",
    "\\s returns a match where string contains a whitespace character"
   ]
  },
  {
   "cell_type": "markdown",
   "id": "68fb445f",
   "metadata": {},
   "source": [
    "14\\. What is the difference between .\\*? and .\\*?"
   ]
  },
  {
   "cell_type": "markdown",
   "id": "54878854",
   "metadata": {},
   "source": [
    "' . ' accepts as many sequence as available\n",
    "' .? ' accepts the first matched sequence and then stops"
   ]
  },
  {
   "cell_type": "markdown",
   "id": "20ae5dcb",
   "metadata": {},
   "source": [
    "#15\\. What is the syntax for matching both numbers and lowercase letters\n",
    "with a character class?"
   ]
  },
  {
   "cell_type": "markdown",
   "id": "6f30afea",
   "metadata": {},
   "source": [
    " [a-zA-Z0-9] "
   ]
  },
  {
   "cell_type": "markdown",
   "id": "b4416b37",
   "metadata": {},
   "source": [
    "#16\\. What is the procedure for making a normal expression in regax case\n",
    "insensitive?"
   ]
  },
  {
   "cell_type": "markdown",
   "id": "fbda3469",
   "metadata": {},
   "source": [
    "pass re.IGNORECASE to re.compile()"
   ]
  },
  {
   "cell_type": "markdown",
   "id": "4d9154b1",
   "metadata": {},
   "source": [
    "#17\\. What does the . character normally match? What does it match if\n",
    "re.DOTALL is passed as 2nd argument in re.compile()?"
   ]
  },
  {
   "cell_type": "markdown",
   "id": "74ca78a4",
   "metadata": {},
   "source": [
    "' . ' character normally pass any character except newline character With the help of DOTALL ' . ' character can match any character including newline"
   ]
  },
  {
   "cell_type": "markdown",
   "id": "79322dd4",
   "metadata": {},
   "source": [
    "#18\\. If numReg = re.compile(r'\\\\d+'), what will numRegex.sub('X', '11\n",
    "drummers, 10 pipers, five rings, 4 hen') return?"
   ]
  },
  {
   "cell_type": "markdown",
   "id": "2a868b58",
   "metadata": {},
   "source": [
    "'X drummers, X pipers, five rings, X hen'"
   ]
  },
  {
   "cell_type": "markdown",
   "id": "c85dea66",
   "metadata": {},
   "source": [
    "#19\\. What does passing re.VERBOSE as the 2nd argument to re.compile()\n",
    "allow to do?"
   ]
  },
  {
   "cell_type": "markdown",
   "id": "91fc0646",
   "metadata": {},
   "source": [
    "It allows to write regular expressin that look nicer and are more readable by allowing visually separate logical section of the pattern and add comments"
   ]
  }
 ],
 "metadata": {
  "kernelspec": {
   "display_name": "Python 3 (ipykernel)",
   "language": "python",
   "name": "python3"
  },
  "language_info": {
   "codemirror_mode": {
    "name": "ipython",
    "version": 3
   },
   "file_extension": ".py",
   "mimetype": "text/x-python",
   "name": "python",
   "nbconvert_exporter": "python",
   "pygments_lexer": "ipython3",
   "version": "3.9.12"
  }
 },
 "nbformat": 4,
 "nbformat_minor": 5
}
