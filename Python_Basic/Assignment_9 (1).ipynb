{
 "cells": [
  {
   "cell_type": "markdown",
   "id": "ccff9a64-084b-47df-a824-9dc5f2cc57c7",
   "metadata": {},
   "source": [
    "1\\. To what does a relative path refer?"
   ]
  },
  {
   "cell_type": "markdown",
   "id": "ce1382e5-2203-4f5d-b92d-b3125ed12a11",
   "metadata": {},
   "source": [
    "The relative path is the path to some file with respect to your current working directory (PWD)"
   ]
  },
  {
   "cell_type": "markdown",
   "id": "fcf4b2a2-f26d-48bf-b56f-25339c7fd848",
   "metadata": {},
   "source": [
    "2\\. What does an absolute path start with your operating system?"
   ]
  },
  {
   "cell_type": "markdown",
   "id": "421ad7e1-7944-4cbd-b26a-60e7668392d2",
   "metadata": {},
   "source": [
    "Absolute path starts with C:"
   ]
  },
  {
   "cell_type": "markdown",
   "id": "17ce52b0-d3de-45ef-a576-59452d7f1e2a",
   "metadata": {},
   "source": [
    "3\\. What do the functions os.getcwd() and os.chdir() do?"
   ]
  },
  {
   "cell_type": "markdown",
   "id": "d40e5814-dad2-4242-a39d-96ff7d2960cc",
   "metadata": {},
   "source": [
    "os.getcwd() method tells us the location of current working directory \n",
    "os.chdir() method is used to change the current working directory to specified path"
   ]
  },
  {
   "cell_type": "markdown",
   "id": "a18c6358-7a1c-46a7-9519-95f91082de55",
   "metadata": {},
   "source": [
    "4\\. What are the . and .. folders?"
   ]
  },
  {
   "cell_type": "markdown",
   "id": "a4807eba-d31a-4246-8a59-9f31d8bc3db5",
   "metadata": {},
   "source": [
    ". Represents the Current Directory Whereas .. Represents the Parent Directory of the Current Directory"
   ]
  },
  {
   "cell_type": "markdown",
   "id": "0fd0793a-29a3-4f6f-9ad8-ff4753d0040a",
   "metadata": {},
   "source": [
    "5\\. In C:\\\\bacon\\\\eggs\\\\spam.txt, which part is the dir name, and which\n",
    "part is the base name?"
   ]
  },
  {
   "cell_type": "markdown",
   "id": "6e122a85-0719-4df3-93bf-d1c3b3c20b0b",
   "metadata": {},
   "source": [
    "The dir name is C:\\\\bacon\\\\eggs\n",
    "The Base name is spam.txt"
   ]
  },
  {
   "cell_type": "markdown",
   "id": "53239105-0590-4982-9d43-b12bb702603c",
   "metadata": {},
   "source": [
    "6\\. What are the three “mode” arguments that can be passed to the open()\n",
    "function?"
   ]
  },
  {
   "cell_type": "markdown",
   "id": "219cf392-71b6-489d-9b0e-1315f157def4",
   "metadata": {},
   "source": [
    "A file can be Accessed in python using open() function. open function takes two arguments filename and mode of operation (optional). if mode is not provided the default mode of opening is read mode"
   ]
  },
  {
   "cell_type": "markdown",
   "id": "41f70608-b9c5-4780-9a3e-8bda35642442",
   "metadata": {},
   "source": [
    "7\\. What happens if an existing file is opened in write mode?\n"
   ]
  },
  {
   "cell_type": "markdown",
   "id": "cd5993ac-5ba7-42ac-b294-4ae7ffbe69ec",
   "metadata": {},
   "source": [
    " Using this mode will overwrite any existing content in a file. If the given file does not exist, a new one will be created"
   ]
  },
  {
   "cell_type": "markdown",
   "id": "e8735ce3-f202-4097-a3e2-877e9a672d87",
   "metadata": {},
   "source": [
    "8\\. How do you tell the difference between read() and readlines()?"
   ]
  },
  {
   "cell_type": "markdown",
   "id": "055b3387-7441-49fc-8197-c52ec2c55190",
   "metadata": {},
   "source": [
    "The main difference is that read() will read the whole file at once and then print out the first characters that take up as many bytes as you specify in the parenthesis \n",
    "Whereas the readline() that will read and print out only the first characters that take up as many bytes as you specify in the parenthesis"
   ]
  },
  {
   "cell_type": "markdown",
   "id": "7ce8623b-1cb9-4651-9127-ec254760d468",
   "metadata": {},
   "source": [
    "9\\. What data structure does a shelf value resemble?"
   ]
  },
  {
   "cell_type": "markdown",
   "id": "1cf2ff8d-a9ce-4570-b0f5-9643bb6bd83c",
   "metadata": {},
   "source": [
    " it contains key and values it represents dictionary."
   ]
  },
  {
   "cell_type": "code",
   "execution_count": null,
   "id": "bb2355a4-3549-4c76-a84a-1167660439a5",
   "metadata": {},
   "outputs": [],
   "source": []
  }
 ],
 "metadata": {
  "kernelspec": {
   "display_name": "Python 3 (ipykernel)",
   "language": "python",
   "name": "python3"
  },
  "language_info": {
   "codemirror_mode": {
    "name": "ipython",
    "version": 3
   },
   "file_extension": ".py",
   "mimetype": "text/x-python",
   "name": "python",
   "nbconvert_exporter": "python",
   "pygments_lexer": "ipython3",
   "version": "3.10.6"
  }
 },
 "nbformat": 4,
 "nbformat_minor": 5
}
