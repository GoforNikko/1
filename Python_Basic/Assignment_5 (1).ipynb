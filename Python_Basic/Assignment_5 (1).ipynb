{
 "cells": [
  {
   "cell_type": "code",
   "execution_count": null,
   "id": "448b5d26",
   "metadata": {},
   "outputs": [],
   "source": [
    "#1\\. What does an empty dictionary's code look like?"
   ]
  },
  {
   "cell_type": "code",
   "execution_count": 1,
   "id": "a474522f",
   "metadata": {},
   "outputs": [
    {
     "data": {
      "text/plain": [
       "dict"
      ]
     },
     "execution_count": 1,
     "metadata": {},
     "output_type": "execute_result"
    }
   ],
   "source": [
    "emptydict = {}\n",
    "type(emptydict)"
   ]
  },
  {
   "cell_type": "code",
   "execution_count": null,
   "id": "ada529be",
   "metadata": {},
   "outputs": [],
   "source": [
    "#2\\. What is the value of a dictionary value with the key 'foo' and the\n",
    "#value 42?\n"
   ]
  },
  {
   "cell_type": "code",
   "execution_count": 3,
   "id": "0009a4b6",
   "metadata": {},
   "outputs": [
    {
     "data": {
      "text/plain": [
       "42"
      ]
     },
     "execution_count": 3,
     "metadata": {},
     "output_type": "execute_result"
    }
   ],
   "source": [
    "my_dict={'foo':42}\n",
    "my_dict['foo']"
   ]
  },
  {
   "cell_type": "code",
   "execution_count": null,
   "id": "44cc454a",
   "metadata": {},
   "outputs": [],
   "source": [
    "#3\\. What is the most significant distinction between a dictionary and a\n",
    "#list?\n"
   ]
  },
  {
   "cell_type": "code",
   "execution_count": null,
   "id": "eb3b50ae",
   "metadata": {},
   "outputs": [],
   "source": [
    "# dict is created using {} also it has key value pair etc where as list is created using []"
   ]
  },
  {
   "cell_type": "code",
   "execution_count": null,
   "id": "6f117e3a",
   "metadata": {},
   "outputs": [],
   "source": [
    "#4\\. What happens if you try to access spam\\['foo'\\] if spam is {'bar':\n",
    "#100}?"
   ]
  },
  {
   "cell_type": "code",
   "execution_count": 4,
   "id": "18b6520d",
   "metadata": {},
   "outputs": [
    {
     "ename": "KeyError",
     "evalue": "'foo'",
     "output_type": "error",
     "traceback": [
      "\u001b[1;31m---------------------------------------------------------------------------\u001b[0m",
      "\u001b[1;31mKeyError\u001b[0m                                  Traceback (most recent call last)",
      "Input \u001b[1;32mIn [4]\u001b[0m, in \u001b[0;36m<cell line: 2>\u001b[1;34m()\u001b[0m\n\u001b[0;32m      1\u001b[0m spam \u001b[38;5;241m=\u001b[39m {\u001b[38;5;124m'\u001b[39m\u001b[38;5;124mbar\u001b[39m\u001b[38;5;124m'\u001b[39m:\u001b[38;5;241m100\u001b[39m}\n\u001b[1;32m----> 2\u001b[0m \u001b[43mspam\u001b[49m\u001b[43m[\u001b[49m\u001b[38;5;124;43m'\u001b[39;49m\u001b[38;5;124;43mfoo\u001b[39;49m\u001b[38;5;124;43m'\u001b[39;49m\u001b[43m]\u001b[49m\n",
      "\u001b[1;31mKeyError\u001b[0m: 'foo'"
     ]
    }
   ],
   "source": [
    "spam = {'bar':100}\n",
    "spam['foo']\n",
    "# it will give an error"
   ]
  },
  {
   "cell_type": "code",
   "execution_count": null,
   "id": "4c5d6833",
   "metadata": {},
   "outputs": [],
   "source": [
    "#5\\. If a dictionary is stored in spam, what is the difference between\n",
    "#the expressions 'cat' in spam and 'cat' in spam.keys()?\n"
   ]
  },
  {
   "cell_type": "code",
   "execution_count": null,
   "id": "95c2a347",
   "metadata": {},
   "outputs": [],
   "source": [
    "#there is no diffrence"
   ]
  },
  {
   "cell_type": "code",
   "execution_count": null,
   "id": "e984cc19",
   "metadata": {},
   "outputs": [],
   "source": [
    "#6\\. If a dictionary is stored in spam, what is the difference between\n",
    "#the expressions 'cat' in spam and 'cat' in spam.values()?\n"
   ]
  },
  {
   "cell_type": "code",
   "execution_count": 5,
   "id": "912b7195",
   "metadata": {},
   "outputs": [
    {
     "name": "stdout",
     "output_type": "stream",
     "text": [
      "True False\n"
     ]
    }
   ],
   "source": [
    "spam = {'cat': 123, 'k2': 2+3j}\n",
    "a = 'cat' in spam\n",
    "b = 'cat' in spam.values()\n",
    "print(a, b)\n",
    "# 'cat' in spam: This expression checks whether there is a 'cat' KEY in the dictionary\n",
    "# 'cat' in spam.values(): This will checks whether there is a value 'cat' in spam."
   ]
  },
  {
   "cell_type": "code",
   "execution_count": 7,
   "id": "fb30d7c2",
   "metadata": {},
   "outputs": [],
   "source": [
    "#7\\. What is a shortcut for the following code?\n",
    "if 'color' not in spam:\n",
    "    spam['color'] = 'black'\n"
   ]
  },
  {
   "cell_type": "code",
   "execution_count": 9,
   "id": "3375c92c",
   "metadata": {},
   "outputs": [
    {
     "data": {
      "text/plain": [
       "'black'"
      ]
     },
     "execution_count": 9,
     "metadata": {},
     "output_type": "execute_result"
    }
   ],
   "source": [
    "spam.setdefault('color' , 'black')"
   ]
  },
  {
   "cell_type": "code",
   "execution_count": 10,
   "id": "9a9d910c",
   "metadata": {},
   "outputs": [
    {
     "data": {
      "text/plain": [
       "{'cat': 123, 'k2': (2+3j), 'color': 'black'}"
      ]
     },
     "execution_count": 10,
     "metadata": {},
     "output_type": "execute_result"
    }
   ],
   "source": [
    "spam"
   ]
  },
  {
   "cell_type": "code",
   "execution_count": null,
   "id": "782a68f7",
   "metadata": {},
   "outputs": [],
   "source": [
    "#8\\. How do you \"pretty print\" dictionary values using which module and\n",
    "#function?"
   ]
  },
  {
   "cell_type": "code",
   "execution_count": 11,
   "id": "0f993bea",
   "metadata": {},
   "outputs": [
    {
     "name": "stdout",
     "output_type": "stream",
     "text": [
      "{'cat': 123, 'color': 'black', 'k2': (2+3j)}\n"
     ]
    }
   ],
   "source": [
    "import pprint\n",
    "pprint.pprint(spam)"
   ]
  }
 ],
 "metadata": {
  "kernelspec": {
   "display_name": "Python 3 (ipykernel)",
   "language": "python",
   "name": "python3"
  },
  "language_info": {
   "codemirror_mode": {
    "name": "ipython",
    "version": 3
   },
   "file_extension": ".py",
   "mimetype": "text/x-python",
   "name": "python",
   "nbconvert_exporter": "python",
   "pygments_lexer": "ipython3",
   "version": "3.9.12"
  }
 },
 "nbformat": 4,
 "nbformat_minor": 5
}
