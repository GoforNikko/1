{
 "cells": [
  {
   "cell_type": "markdown",
   "id": "cf7f1d58",
   "metadata": {},
   "source": [
    "1.What are the two values of the Boolean data type? How do you write\n",
    "them?\n",
    "\n",
    "ans: True and Flase with a capital T and capital F"
   ]
  },
  {
   "cell_type": "markdown",
   "id": "3224331e",
   "metadata": {},
   "source": [
    "2\\. What are the three different types of Boolean operators?\n",
    "\n",
    "ans: or and not \n"
   ]
  },
  {
   "cell_type": "markdown",
   "id": "ce77973f",
   "metadata": {},
   "source": [
    "3\\. Make a list of each Boolean operator's truth tables (i.e. every\n",
    "possible combination of Boolean values for the operator and what it\n",
    "evaluate ).\n",
    "\n",
    "* ans: True and True is True.\n",
    "\n",
    "     True and False is True\n",
    "\n",
    "     False and True is False.\n",
    "\n",
    "     False and False is False.\n",
    "\n",
    "     True or True is True.\n",
    "\n",
    "     True or False is True.\n",
    "\n",
    "     False or True is True.\n",
    "\n",
    "     False or False is False.\n",
    "\n",
    "     not True is False.\n",
    "\n",
    "     not False is True."
   ]
  },
  {
   "cell_type": "code",
   "execution_count": 5,
   "id": "0a7c526e",
   "metadata": {},
   "outputs": [
    {
     "name": "stdout",
     "output_type": "stream",
     "text": [
      "Object `expressions` not found.\n",
      "False\n",
      "False\n",
      "True\n",
      "False\n"
     ]
    },
    {
     "data": {
      "text/plain": [
       "True"
      ]
     },
     "execution_count": 5,
     "metadata": {},
     "output_type": "execute_result"
    }
   ],
   "source": [
    "4\\. What are the values of the following expressions?\n",
    "\n",
    "print((5 > 4) and (3 == 5))\n",
    "\n",
    "print(not (5 > 4))\n",
    "\n",
    "print((5 > 4) or (3 == 5))\n",
    "\n",
    "print(not ((5 > 4) or (3 == 5)))\n",
    "\n",
    "(True and True) and (True == False)\n",
    "\n",
    "(not False) or (not True)"
   ]
  },
  {
   "cell_type": "markdown",
   "id": "0dc44d1a",
   "metadata": {},
   "source": [
    "5\\. What are the six comparison operators?\n",
    "\n",
    "ans: == , != , < , > , <= , => "
   ]
  },
  {
   "cell_type": "markdown",
   "id": "a7240848",
   "metadata": {},
   "source": [
    "6\\. How do you tell the difference between the equal to and assignment\n",
    "operators?Describe a condition and when you would use one.\n",
    "\n",
    "ans: = is a assignment operator that stores value in variable == is a equal to operator that compares value "
   ]
  },
  {
   "cell_type": "code",
   "execution_count": 14,
   "id": "7417d186",
   "metadata": {},
   "outputs": [
    {
     "name": "stdout",
     "output_type": "stream",
     "text": [
      "True\n",
      "5\n"
     ]
    }
   ],
   "source": [
    "if a == 5 :\n",
    "    print(True)\n",
    "b = 5\n",
    "print(b)"
   ]
  },
  {
   "cell_type": "markdown",
   "id": "e73c6230",
   "metadata": {},
   "source": [
    "7\\. Identify the three blocks in this code:\n"
   ]
  },
  {
   "cell_type": "code",
   "execution_count": 19,
   "id": "6f7c4c30",
   "metadata": {},
   "outputs": [
    {
     "name": "stdout",
     "output_type": "stream",
     "text": [
      "ham\n",
      "spam\n",
      "spam\n"
     ]
    }
   ],
   "source": [
    "spam = 0\n",
    "\n",
    "if spam == 10:\n",
    "\n",
    "    print('eggs') # block 1\n",
    "\n",
    "if spam > 5:\n",
    "\n",
    "    print('bacon') # block 2\n",
    "\n",
    "else:\n",
    "\n",
    "    print('ham')  # block 3\n",
    "\n",
    "    print('spam')\n",
    "\n",
    "    print('spam')\n"
   ]
  },
  {
   "cell_type": "markdown",
   "id": "563b40ea",
   "metadata": {},
   "source": [
    "8\\. Write code that prints Hello if 1 is stored in spam, prints Howdy if\n",
    "2 is stored in spam, and prints Greetings! if anything else is stored in\n",
    "spam."
   ]
  },
  {
   "cell_type": "code",
   "execution_count": 13,
   "id": "016eee47",
   "metadata": {},
   "outputs": [],
   "source": [
    "def spam(spam):\n",
    "    \n",
    "    if spam == 1:\n",
    "        print(\"hello\")\n",
    "        \n",
    "    elif spam == 2:\n",
    "        print(\"howdy\")\n",
    "        \n",
    "    else:\n",
    "        print(\"Greetings\")"
   ]
  },
  {
   "cell_type": "code",
   "execution_count": 14,
   "id": "5c64342f",
   "metadata": {},
   "outputs": [
    {
     "name": "stdout",
     "output_type": "stream",
     "text": [
      "hello\n",
      "howdy\n",
      "Greetings\n"
     ]
    }
   ],
   "source": [
    "spam (1)\n",
    "spam (2)\n",
    "spam (3)"
   ]
  },
  {
   "cell_type": "markdown",
   "id": "24e33966",
   "metadata": {},
   "source": [
    "9.If your programme is stuck in an endless loop, what keys you’ll press?\n",
    "\n",
    "ans: cntrl + c"
   ]
  },
  {
   "cell_type": "markdown",
   "id": "e2a009dc",
   "metadata": {},
   "source": [
    "10 How can you tell the difference between break and continue?\n",
    "\n",
    "ans: Break terminates the execution of the current loop\n",
    "     continue skips the current iteration"
   ]
  },
  {
   "cell_type": "markdown",
   "id": "311a17d9",
   "metadata": {},
   "source": [
    "11 In a for loop, what is the difference between range(10), range(0, 10), and range(0, 10, 1)?\n"
   ]
  },
  {
   "cell_type": "code",
   "execution_count": 16,
   "id": "04723af8",
   "metadata": {},
   "outputs": [
    {
     "name": "stdout",
     "output_type": "stream",
     "text": [
      "0\n",
      "1\n",
      "2\n",
      "3\n",
      "4\n",
      "5\n",
      "6\n",
      "7\n",
      "8\n",
      "9\n",
      "0\n",
      "1\n",
      "2\n",
      "3\n",
      "4\n",
      "5\n",
      "6\n",
      "7\n",
      "8\n",
      "9\n",
      "0\n",
      "1\n",
      "2\n",
      "3\n",
      "4\n",
      "5\n",
      "6\n",
      "7\n",
      "8\n",
      "9\n"
     ]
    }
   ],
   "source": [
    "for i in range (10):\n",
    "    print(i)\n",
    "\n",
    "for i in range (0,10):\n",
    "    print(i)\n",
    "    \n",
    "for i in range (0,10,1):\n",
    "    print(i)"
   ]
  },
  {
   "cell_type": "markdown",
   "id": "244fa0ca",
   "metadata": {},
   "source": [
    "ans : they all do the same range (10) calls from 0 to 9 excluding 10 range (0,10) starts from 0 and range (0,10,1) increases variable by 1 on each iteration"
   ]
  },
  {
   "cell_type": "markdown",
   "id": "19977ba6",
   "metadata": {},
   "source": [
    "12\\. Write a short program that prints the numbers 1 to 10 using a for\n",
    "loop. Then write an equivalent program that prints the numbers 1 to 10\n",
    "using a while loop."
   ]
  },
  {
   "cell_type": "code",
   "execution_count": 24,
   "id": "e9800449",
   "metadata": {},
   "outputs": [
    {
     "name": "stdout",
     "output_type": "stream",
     "text": [
      "1\n",
      "2\n",
      "3\n",
      "4\n",
      "5\n",
      "6\n",
      "7\n",
      "8\n",
      "9\n",
      "10\n",
      "1\n",
      "2\n",
      "3\n",
      "4\n",
      "5\n",
      "6\n",
      "7\n",
      "8\n",
      "9\n",
      "10\n"
     ]
    }
   ],
   "source": [
    "for i in range(1,11):\n",
    "    print(i)\n",
    "\n",
    "a = 1  \n",
    "\n",
    "while a <=10:\n",
    "    print(a)\n",
    "    a+=1"
   ]
  },
  {
   "cell_type": "markdown",
   "id": "515d2fee",
   "metadata": {},
   "source": [
    "13\\. If you had a function named bacon() inside a module named spam, how\n",
    "would you call it after importing spam?\n",
    "\n",
    "ans: spam.bacon()"
   ]
  }
 ],
 "metadata": {
  "kernelspec": {
   "display_name": "Python 3 (ipykernel)",
   "language": "python",
   "name": "python3"
  },
  "language_info": {
   "codemirror_mode": {
    "name": "ipython",
    "version": 3
   },
   "file_extension": ".py",
   "mimetype": "text/x-python",
   "name": "python",
   "nbconvert_exporter": "python",
   "pygments_lexer": "ipython3",
   "version": "3.9.12"
  }
 },
 "nbformat": 4,
 "nbformat_minor": 5
}
