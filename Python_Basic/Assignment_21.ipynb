{
 "cells": [
  {
   "attachments": {},
   "cell_type": "markdown",
   "metadata": {},
   "source": [
    "1. Add the current date to the text file today.txt as a string."
   ]
  },
  {
   "cell_type": "code",
   "execution_count": 1,
   "metadata": {},
   "outputs": [
    {
     "name": "stdout",
     "output_type": "stream",
     "text": [
      "23-05-2023\n"
     ]
    }
   ],
   "source": [
    "import datetime\n",
    "\n",
    "file = open('today.txt','w')\n",
    "file.write(datetime.datetime.now().strftime(\"%d-%m-%Y\"))\n",
    "file.close()\n",
    "\n",
    "file = open('today.txt','r')\n",
    "print(file.read())\n",
    "file.close()"
   ]
  },
  {
   "attachments": {},
   "cell_type": "markdown",
   "metadata": {},
   "source": [
    "2. Read the text file today.txt into the string today_string"
   ]
  },
  {
   "cell_type": "code",
   "execution_count": 2,
   "metadata": {},
   "outputs": [
    {
     "name": "stdout",
     "output_type": "stream",
     "text": [
      "23-05-2023\n"
     ]
    }
   ],
   "source": [
    "file = open('today.txt','r')\n",
    "today_string = file.read()\n",
    "print(today_string)"
   ]
  },
  {
   "attachments": {},
   "cell_type": "markdown",
   "metadata": {},
   "source": [
    "3. Parse the date from today_string."
   ]
  },
  {
   "cell_type": "code",
   "execution_count": 3,
   "metadata": {},
   "outputs": [
    {
     "name": "stdout",
     "output_type": "stream",
     "text": [
      "2023-05-23 00:00:00\n"
     ]
    }
   ],
   "source": [
    "from datetime import datetime \n",
    "data = datetime.strptime(today_string, '%d-%m-%Y')\n",
    "print(data)"
   ]
  },
  {
   "attachments": {},
   "cell_type": "markdown",
   "metadata": {},
   "source": [
    "4. List the files in your current directory"
   ]
  },
  {
   "cell_type": "code",
   "execution_count": 4,
   "metadata": {},
   "outputs": [
    {
     "name": "stdout",
     "output_type": "stream",
     "text": [
      "-Assignment_3 (1).ipynb\n",
      "application_log.txt\n",
      "Assignment_1 (1).ipynb\n",
      "Assignment_10 (2).ipynb\n",
      "Assignment_11 (1).ipynb\n",
      "Assignment_12.ipynb\n",
      "Assignment_13.ipynb\n",
      "Assignment_14.ipynb\n",
      "Assignment_15.ipynb\n",
      "Assignment_16.ipynb\n",
      "Assignment_17.ipynb\n",
      "Assignment_18.ipynb\n",
      "Assignment_19.ipynb\n",
      "Assignment_2 (1).ipynb\n",
      "Assignment_20.ipynb\n",
      "Assignment_21.ipynb\n",
      "Assignment_4 (1).ipynb\n",
      "Assignment_5 (1).ipynb\n",
      "Assignment_6.ipynb\n",
      "Assignment_7 (1).ipynb\n",
      "Assignment_8 (1).ipynb\n",
      "Assignment_9 (1).ipynb\n",
      "books.csv\n",
      "books.db\n",
      "hello.docx\n",
      "linear_reg.sav\n",
      "mydocument.docx\n",
      "test.html\n",
      "test.txt\n",
      "today.txt\n",
      "zoo.py\n",
      "COMMIT_EDITMSG\n",
      "config\n",
      "description\n",
      "FETCH_HEAD\n",
      "HEAD\n",
      "index\n",
      "ORIG_HEAD\n",
      "packed-refs\n",
      "applypatch-msg.sample\n",
      "commit-msg.sample\n",
      "fsmonitor-watchman.sample\n",
      "post-update.sample\n",
      "pre-applypatch.sample\n",
      "pre-commit.sample\n",
      "pre-merge-commit.sample\n",
      "pre-push.sample\n",
      "pre-rebase.sample\n",
      "pre-receive.sample\n",
      "prepare-commit-msg.sample\n",
      "push-to-checkout.sample\n",
      "update.sample\n",
      "exclude\n",
      "HEAD\n",
      "main\n",
      "HEAD\n",
      "main\n",
      "237818f806548dc49c9779f1fc2e4ebeecddf9\n",
      "b230a4d8c9985068fb8d61f4d79174296d1219\n",
      "1a7f024eea42c4be9f691a603d721528bed971\n",
      "8fffb774447cb3c73e334b66fa2a64478d32f6\n",
      "e9860b339c86d8c8290aec0031c475277b9547\n",
      "c41a20a5bd58a182cb2df95fd0ba4c5a25182d\n",
      "3764d640ceee54278edfa1ea81c48a90a4fd6f\n",
      "c0fb0fc657743d870034d1f2de18616c825a4d\n",
      "29a8f912c54eb25986ce8948b68ba0e4cd4219\n",
      "0b021e10ae45c57caedcf5c960730a68ab6ec9\n",
      "b0cd49caa592093f54d730e7fa76bd4fef7527\n",
      "f8e4334e00e9a4ec9eaa8f74f578c19b53c1c0\n",
      "8841641088d5f7d0d8f46a4f5b2e4487a24855\n",
      "da795a2de813c457a465ec239252ea5d532d12\n",
      "2705ea81958d6d389fcbed5830eb35019a831b\n",
      "bc2bf4b6fc42935100810785f3735b368502ed\n",
      "4bafe7dc885ef53c4b5680c2625b916ebfc6fa\n",
      "16bac45becf2bc1e9ccfc18b74469455aa3121\n",
      "7f44d9ba0d04288418152f9802440edf2abb20\n",
      "69df136ed65e587a2d52680db70b928d61b4e8\n",
      "ce818faca938f7e60ec7b703be1ec4f56b48e4\n",
      "507f58012b5bdfc27a5acdd4724a36275816c0\n",
      "39231720bdf46f38550eb15779e78e4329982b\n",
      "923f5d1fab736d6d573a1133d7155ac4e1d2ea\n",
      "05f5b6cf9b618a5f84eb2c3a2659f5523f08ac\n",
      "0b41b2d9b92cb310ff572d62a43b8dd6085d02\n",
      "4d85f4fd851e5ff53e959f20de3e5ca5f48e24\n",
      "9f28af3c2fe681a4035b283167d8e01fbae2ac\n",
      "af48af4a400c594dc74e0d4451a73f7cea855c\n",
      "dbfbc8c2a06f946d2dae73796948950f5065c8\n",
      "cfee3da40a7c8ec97ffcffe42ccbd08d699b74\n",
      "f36027f0d990af270427ada78396553510142a\n",
      "c7f018ac8a7640640b1315b102788382688113\n",
      "2a194b1101ba39a439487d394c3d62c00f37b1\n",
      "7511e4b873b8d46e9cb1627d08cdb67b376c50\n",
      "84ba1d591d88c84cfc3433eccf5872317b6e6c\n",
      "31ad99737ed5119f34c8e1efaf4d368769cd65\n",
      "f2e3f6852ac7f9393a6724763fd9b889ab5900\n",
      "8d768b52ffe291b676cb5eaa7310b24488b6be\n",
      "9e1d3965e6ed7845b6ea3c60a35267e9a513e5\n",
      "414b57ddd31ec23715207dd6a03e3d8c9826de\n",
      "b220954972a6c7c677f21273a3945ab26ab661\n",
      "0943ad46041bced936535867b5146e7b7ac09d\n",
      "9f8530c03bdb6861ee067791bce0c0fa5fee34\n",
      "7005293efbbc22a79cb778169c9f4576c46121\n",
      "d1a93030cf44ac60487894ee155e8ae0be0eb5\n",
      "6fa0b475021bd5a822557e635a32789a2b7586\n",
      "e42d928c302dcbfdf9b7178cc5cff85fd13606\n",
      "a3c8dc6898d3776124807efca6701e49454441\n",
      "5cfb494484c78f902a7b3e0b703d9fef9757b1\n",
      "97a08a68a708ffb00af515c9dfb13f9341b08b\n",
      "a883a9b601e8886d78d66ba3368da793520076\n",
      "450bacc37f907facc466c548e4953fdcf289f3\n",
      "f9d83b453e294ef893605906666344cd28cdfb\n",
      "eb1375d1b5fbced2527315e2284bad4bb6b97f\n",
      "pack-76c86556c2d7aea13d8f39195e787864b501ba2c.idx\n",
      "pack-76c86556c2d7aea13d8f39195e787864b501ba2c.pack\n",
      "main\n",
      "HEAD\n",
      "main\n",
      "settings.json\n",
      "zoo.cpython-39.pyc\n"
     ]
    }
   ],
   "source": [
    "import os \n",
    "\n",
    "for folders, subfolders, files in os.walk(os.getcwd()):\n",
    "    for file in files :\n",
    "        print(file)"
   ]
  },
  {
   "attachments": {},
   "cell_type": "markdown",
   "metadata": {},
   "source": [
    "5. Create a list of all of the files in your parent directory (minimum five files should be available)."
   ]
  },
  {
   "cell_type": "code",
   "execution_count": 5,
   "metadata": {},
   "outputs": [
    {
     "data": {
      "text/plain": [
       "['-Assignment_3 (1).ipynb',\n",
       " '.git',\n",
       " '.vscode',\n",
       " 'application_log.txt',\n",
       " 'Assignment_1 (1).ipynb',\n",
       " 'Assignment_10 (2).ipynb',\n",
       " 'Assignment_11 (1).ipynb',\n",
       " 'Assignment_12.ipynb',\n",
       " 'Assignment_13.ipynb',\n",
       " 'Assignment_14.ipynb',\n",
       " 'Assignment_15.ipynb',\n",
       " 'Assignment_16.ipynb',\n",
       " 'Assignment_17.ipynb',\n",
       " 'Assignment_18.ipynb',\n",
       " 'Assignment_19.ipynb',\n",
       " 'Assignment_2 (1).ipynb',\n",
       " 'Assignment_20.ipynb',\n",
       " 'Assignment_21.ipynb',\n",
       " 'Assignment_4 (1).ipynb',\n",
       " 'Assignment_5 (1).ipynb',\n",
       " 'Assignment_6.ipynb',\n",
       " 'Assignment_7 (1).ipynb',\n",
       " 'Assignment_8 (1).ipynb',\n",
       " 'Assignment_9 (1).ipynb',\n",
       " 'books.csv',\n",
       " 'books.db',\n",
       " 'hello.docx',\n",
       " 'linear_reg.sav',\n",
       " 'mydocument.docx',\n",
       " 'test.html',\n",
       " 'test.txt',\n",
       " 'today.txt',\n",
       " 'zoo.py',\n",
       " '__pycache__']"
      ]
     },
     "execution_count": 5,
     "metadata": {},
     "output_type": "execute_result"
    }
   ],
   "source": [
    "import os\n",
    "os.listdir()"
   ]
  },
  {
   "attachments": {},
   "cell_type": "markdown",
   "metadata": {},
   "source": [
    "6. Use multiprocessing to create three separate processes. Make each one wait a random number of\n",
    "seconds between one and five, print the current time, and then exit."
   ]
  },
  {
   "cell_type": "code",
   "execution_count": 8,
   "metadata": {},
   "outputs": [],
   "source": [
    "import multiprocessing\n",
    "import time\n",
    "import random \n",
    "import datetime\n",
    "\n",
    "def Process_One():\n",
    "    print(f'process_one_startime -> {datetime.datetime.now()}')\n",
    "    time.sleep(random.randint(1,5))\n",
    "    print(f'process_one_endtime -> {datetime.datetime.now()}')\n",
    "    \n",
    "def Process_Two():\n",
    "    print(f'process_two_startime -> {datetime.datetime.now()}')\n",
    "    time.sleep(random.randint(1,5))\n",
    "    print(f'process_two_endtime -> {datetime.datetime.now()}')\n",
    "    \n",
    "def Process_Three():\n",
    "    print(f'process_three_startime -> {datetime.datetime.now()}')\n",
    "    time.sleep(random.randint(1,5))\n",
    "    print(f'process_three_endtime -> {datetime.datetime.now()}')\n",
    "    \n",
    "if __name__ == \"__main__\":\n",
    "     p1 = multiprocessing.Process(target=Process_One)\n",
    "     p2 = multiprocessing.Process(target=Process_Two)\n",
    "     p3 = multiprocessing.Process(target=Process_Three)\n",
    "     \n",
    "     p1.start()\n",
    "     p2.start()\n",
    "     p3.start()\n",
    "\n",
    "     p1.join()\n",
    "     p2.join()\n",
    "     p3.join()\n",
    "     "
   ]
  },
  {
   "attachments": {},
   "cell_type": "markdown",
   "metadata": {},
   "source": [
    "7. Create a date object of your day of birth."
   ]
  },
  {
   "cell_type": "code",
   "execution_count": 9,
   "metadata": {},
   "outputs": [
    {
     "name": "stdout",
     "output_type": "stream",
     "text": [
      "1999-05-02 00:00:00 <class 'datetime.datetime'>\n"
     ]
    }
   ],
   "source": [
    "from datetime import datetime\n",
    "my_dob = datetime.strptime('02/05/1999','%d/%m/%Y')\n",
    "print(my_dob, type(my_dob))"
   ]
  },
  {
   "attachments": {},
   "cell_type": "markdown",
   "metadata": {},
   "source": [
    "8. What day of the week was your day of birth?"
   ]
  },
  {
   "cell_type": "code",
   "execution_count": 10,
   "metadata": {},
   "outputs": [
    {
     "data": {
      "text/plain": [
       "'Sunday'"
      ]
     },
     "execution_count": 10,
     "metadata": {},
     "output_type": "execute_result"
    }
   ],
   "source": [
    "from datetime import datetime\n",
    "my_dob = datetime(1999,5,2)\n",
    "my_dob.strftime(\"%A\")"
   ]
  },
  {
   "attachments": {},
   "cell_type": "markdown",
   "metadata": {},
   "source": [
    "9. When will you be (or when were you) 10,000 days old?"
   ]
  },
  {
   "cell_type": "code",
   "execution_count": 11,
   "metadata": {},
   "outputs": [
    {
     "data": {
      "text/plain": [
       "datetime.datetime(1971, 12, 15, 0, 0)"
      ]
     },
     "execution_count": 11,
     "metadata": {},
     "output_type": "execute_result"
    }
   ],
   "source": [
    "from datetime import datetime, timedelta\n",
    "my_dob = datetime.strptime(\"02/05/1999\",'%d/%m/%Y')\n",
    "future_date = my_dob-timedelta(10000)\n",
    "future_date"
   ]
  }
 ],
 "metadata": {
  "kernelspec": {
   "display_name": "base",
   "language": "python",
   "name": "python3"
  },
  "language_info": {
   "codemirror_mode": {
    "name": "ipython",
    "version": 3
   },
   "file_extension": ".py",
   "mimetype": "text/x-python",
   "name": "python",
   "nbconvert_exporter": "python",
   "pygments_lexer": "ipython3",
   "version": "3.9.12"
  },
  "orig_nbformat": 4
 },
 "nbformat": 4,
 "nbformat_minor": 2
}
