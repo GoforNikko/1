{
 "cells": [
  {
   "attachments": {},
   "cell_type": "markdown",
   "id": "a0e1ba8f",
   "metadata": {},
   "source": [
    "1\\. What does RGBA stand for?"
   ]
  },
  {
   "attachments": {},
   "cell_type": "markdown",
   "id": "00f90ab9",
   "metadata": {},
   "source": [
    "RGBA is a four channel format containing data for red,green,blue,alpha where alpha represents opacity"
   ]
  },
  {
   "attachments": {},
   "cell_type": "markdown",
   "id": "74958967",
   "metadata": {},
   "source": [
    "2\\. From the Pillow module, how do you get the RGBA value of any images?"
   ]
  },
  {
   "attachments": {},
   "cell_type": "markdown",
   "id": "2a5f897b",
   "metadata": {},
   "source": [
    "ImageColour.getcolour() gives rgba value of any image "
   ]
  },
  {
   "attachments": {},
   "cell_type": "markdown",
   "id": "e0181064",
   "metadata": {},
   "source": [
    "3\\. What is a box tuple, and how does it work?"
   ]
  },
  {
   "attachments": {},
   "cell_type": "markdown",
   "id": "a393c2a5",
   "metadata": {},
   "source": [
    " A box tuple is a tuple value of four integers the left-edge x-coordinate the top-edge y-coordinate the width and the height respectively"
   ]
  },
  {
   "attachments": {},
   "cell_type": "markdown",
   "id": "8569900f",
   "metadata": {},
   "source": [
    "4. Use your image and load in notebook then, How can you find out the\n",
    "width and height of an Image object?"
   ]
  },
  {
   "cell_type": "code",
   "execution_count": null,
   "id": "5dd79e36",
   "metadata": {},
   "outputs": [],
   "source": [
    "# Example Program\n",
    "from PIL import Image\n",
    "pic = Image.open('nikko.jpg')\n",
    "print(f'Width, Height -> {pic.width},{pic.height}') \n",
    "width,height = pic.size\n"
   ]
  },
  {
   "attachments": {},
   "cell_type": "markdown",
   "id": "8e92e9f1",
   "metadata": {},
   "source": [
    "5. What method would you call to get Image object for a 100×100 image,\n",
    "excluding the lower-left quarter of it?"
   ]
  },
  {
   "cell_type": "code",
   "execution_count": null,
   "id": "f686f1e9",
   "metadata": {},
   "outputs": [],
   "source": [
    "from PIL import Image\n",
    "img = Image.open('nikko.jpg')\n",
    "new_img = img.crop((0,50,50,50))"
   ]
  },
  {
   "attachments": {},
   "cell_type": "markdown",
   "id": "bcfdc602",
   "metadata": {},
   "source": [
    "6. After making changes to an Image object, how could you save it as an\n",
    "image file?"
   ]
  },
  {
   "cell_type": "code",
   "execution_count": null,
   "id": "07787af3",
   "metadata": {},
   "outputs": [],
   "source": [
    "# Example Program\n",
    "from PIL import Image\n",
    "pic = Image.open('nikko.jpg')\n",
    "pic.save('nikko2.jpg')"
   ]
  },
  {
   "attachments": {},
   "cell_type": "markdown",
   "id": "e708d119",
   "metadata": {},
   "source": [
    "7. What module contains Pillow’s shape-drawing code?\n"
   ]
  },
  {
   "attachments": {},
   "cell_type": "markdown",
   "id": "c787402e",
   "metadata": {},
   "source": [
    "pollows ImageDraw module contains shape drawing method"
   ]
  },
  {
   "attachments": {},
   "cell_type": "markdown",
   "id": "9901022d",
   "metadata": {},
   "source": [
    "8. Image objects do not have drawing methods. What kind of object does?\n",
    "How do you get this kind of object?"
   ]
  },
  {
   "attachments": {},
   "cell_type": "markdown",
   "id": "a7668579",
   "metadata": {},
   "source": [
    "ImageDraw objects have shape-drawing methods such as point(), line(), or rectangle().They are returned by passing the Image object to the ImageDraw.Draw() function."
   ]
  }
 ],
 "metadata": {
  "kernelspec": {
   "display_name": "base",
   "language": "python",
   "name": "python3"
  },
  "language_info": {
   "codemirror_mode": {
    "name": "ipython",
    "version": 3
   },
   "file_extension": ".py",
   "mimetype": "text/x-python",
   "name": "python",
   "nbconvert_exporter": "python",
   "pygments_lexer": "ipython3",
   "version": "3.9.12"
  },
  "vscode": {
   "interpreter": {
    "hash": "a90aeebcf29d64a654773811cc170cb25061cb2498f10ac689db374c7bf325de"
   }
  }
 },
 "nbformat": 4,
 "nbformat_minor": 5
}
