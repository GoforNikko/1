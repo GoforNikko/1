{
 "cells": [
  {
   "cell_type": "markdown",
   "id": "b33e4d39-a91d-405b-8894-125e17d3d3b2",
   "metadata": {},
   "source": [
    "1. Is the Python Standard Library included with PyInputPlus?"
   ]
  },
  {
   "cell_type": "markdown",
   "id": "95e5c7d7-7b9b-41f9-b722-a9ee564a8acb",
   "metadata": {},
   "source": [
    "Ans : No PyInputPlus is not a part of Python Standard Library it needs to be installed explicitly using the command !pip install PyInputPlus"
   ]
  },
  {
   "cell_type": "markdown",
   "id": "91686f00-ea64-4478-b953-f45c65c0692f",
   "metadata": {},
   "source": [
    "2. Why is PyInputPlus commonly imported with import pyinputplus as pypi ?"
   ]
  },
  {
   "cell_type": "markdown",
   "id": "b708cd9c-9944-432d-a707-b32dea4906d8",
   "metadata": {},
   "source": [
    "Ans : You can import the module with import pyinputplus as pyip so that you can enter a shorter name when calling the module's functions"
   ]
  },
  {
   "cell_type": "markdown",
   "id": "89bf48a1-ade8-45d0-b88b-d2e611816cbc",
   "metadata": {},
   "source": [
    "3. How do you distinguish between inputInt() and inputFloat()?"
   ]
  },
  {
   "cell_type": "markdown",
   "id": "8688c94d-2abd-433a-bcc1-6d7230b55637",
   "metadata": {},
   "source": [
    "Ans : inputint() always accepts integer value and returns int where as inputfloat() function accepts a floating point numeric value and returns a float"
   ]
  },
  {
   "cell_type": "markdown",
   "id": "0560dd72-da63-4d5e-bc3d-27d33aa1af8e",
   "metadata": {},
   "source": [
    "4. Using PyInputPlus, how do you ensure that the user enters a whole number between 0 and 99?"
   ]
  },
  {
   "cell_type": "markdown",
   "id": "d85265ae-87ed-42ae-8185-4f14abe8da8b",
   "metadata": {},
   "source": [
    "Ans : PyInputPlus module provides a function called as inputInt() which only returns only integer values in order to restrict the input between 0 and 99 it uses parameters like min & max to ensure that user enters the values between the defined range only"
   ]
  },
  {
   "cell_type": "markdown",
   "id": "8ca64707-c924-4414-82e7-9002ed6ca1b0",
   "metadata": {},
   "source": [
    "5. What is transferred to the keyword arguments allowRegexes and blockRegexes?"
   ]
  },
  {
   "cell_type": "markdown",
   "id": "784ebc32-60c9-4be9-9d80-3d47e4a1b459",
   "metadata": {},
   "source": [
    "Ans : we can use allowRegexes and blockRegexes keyword arguments to take list of regular expression strings to determine what the pyinputplus function will reject or accept valid input"
   ]
  },
  {
   "cell_type": "markdown",
   "id": "aca1a2f6-7dfb-4fbb-8108-dbf3846dac36",
   "metadata": {},
   "source": [
    "6. If a blank input is entered three times, what does inputStr(limit=3) do?"
   ]
  },
  {
   "cell_type": "markdown",
   "id": "6ed1b69d-949f-47d7-b2f4-9d211cc15304",
   "metadata": {},
   "source": [
    "Ans : The statement inputStr(limit=3) will throw exceptions "
   ]
  },
  {
   "cell_type": "markdown",
   "id": "531082b7-e8aa-4913-a5e6-57f218c56f48",
   "metadata": {},
   "source": [
    "7. If blank input is entered three times, what does inputStr(limit=3, default='hello') do?"
   ]
  },
  {
   "cell_type": "markdown",
   "id": "56fc864c-f41b-43fa-93c3-f48673fa8017",
   "metadata": {},
   "source": [
    "Ans : Since the default parameter is set to hello after blank input is entered three times instead of raising RetryLimitException the function will return hello as response to the calling function"
   ]
  }
 ],
 "metadata": {
  "kernelspec": {
   "display_name": "Python 3 (ipykernel)",
   "language": "python",
   "name": "python3"
  },
  "language_info": {
   "codemirror_mode": {
    "name": "ipython",
    "version": 3
   },
   "file_extension": ".py",
   "mimetype": "text/x-python",
   "name": "python",
   "nbconvert_exporter": "python",
   "pygments_lexer": "ipython3",
   "version": "3.10.6"
  }
 },
 "nbformat": 4,
 "nbformat_minor": 5
}
