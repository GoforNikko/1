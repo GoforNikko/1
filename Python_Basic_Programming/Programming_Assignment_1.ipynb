{
 "cells": [
  {
   "attachments": {},
   "cell_type": "markdown",
   "metadata": {},
   "source": [
    "1. Write a Python program to print &quot;Hello Python&quot;?"
   ]
  },
  {
   "cell_type": "code",
   "execution_count": 1,
   "metadata": {},
   "outputs": [
    {
     "name": "stdout",
     "output_type": "stream",
     "text": [
      "hello python\n"
     ]
    }
   ],
   "source": [
    "print(\"hello python\")"
   ]
  },
  {
   "attachments": {},
   "cell_type": "markdown",
   "metadata": {},
   "source": [
    "2. Write a Python program to do arithmetical operations addition and division.?"
   ]
  },
  {
   "cell_type": "code",
   "execution_count": 2,
   "metadata": {},
   "outputs": [
    {
     "name": "stdout",
     "output_type": "stream",
     "text": [
      "The sum of 105 and 105 is 210.0\n",
      "The division of 105 and 105 is 1.0\n"
     ]
    }
   ],
   "source": [
    "num1 = input('enter first number')\n",
    "num2 = input('enter second number')\n",
    "sum = float(num1) + float(num2)\n",
    "div = float(num1) / float(num2)\n",
    "\n",
    "print('The sum of {0} and {1} is {2}'.format(num1, num2, sum))\n",
    "print('The division of {0} and {1} is {2}'.format(num1, num2, div)) "
   ]
  },
  {
   "attachments": {},
   "cell_type": "markdown",
   "metadata": {},
   "source": [
    "3. Write a Python program to find the area of a triangle?"
   ]
  },
  {
   "cell_type": "code",
   "execution_count": 3,
   "metadata": {},
   "outputs": [
    {
     "name": "stdout",
     "output_type": "stream",
     "text": [
      "\n",
      "Area of triangle -> 379.5\n"
     ]
    }
   ],
   "source": [
    "height = int(input('Enter height of triangle: '))\n",
    "base = int(input('Enter base of triangle: '))\n",
    "\n",
    "def area_of_Triangle(height, base):\n",
    "    print('\\nArea of triangle ->', 0.5*height*base)\n",
    "\n",
    "area_of_Triangle(height,base)"
   ]
  },
  {
   "attachments": {},
   "cell_type": "markdown",
   "metadata": {},
   "source": [
    "4. Write a Python program to swap two variables?"
   ]
  },
  {
   "cell_type": "code",
   "execution_count": 4,
   "metadata": {},
   "outputs": [
    {
     "name": "stdout",
     "output_type": "stream",
     "text": [
      "before swapping 33 55\n",
      "after swapping 55 33\n"
     ]
    }
   ],
   "source": [
    "num_1 = int(input(\"enter first number: \"))\n",
    "num_2 = int(input(\"enter second number: \"))\n",
    "\n",
    "def Swap_N (a,b):\n",
    "    var = a\n",
    "    a = b\n",
    "    b = var\n",
    "    return a,b\n",
    "\n",
    "print('before swapping',num_1,num_2)\n",
    "num_1,num_2 = Swap_N (num_1,num_2)\n",
    "print('after swapping',num_1,num_2)    "
   ]
  },
  {
   "attachments": {},
   "cell_type": "markdown",
   "metadata": {},
   "source": [
    "5. Write a Python program to generate a random number?"
   ]
  },
  {
   "cell_type": "code",
   "execution_count": 16,
   "metadata": {},
   "outputs": [
    {
     "name": "stdout",
     "output_type": "stream",
     "text": [
      "Random number ->  81113\n",
      "Random number ->  61\n"
     ]
    }
   ],
   "source": [
    "from random import randint\n",
    "\n",
    "def Gen_Random_Num (start=0 , end=100000):\n",
    "    print('Random number -> ',randint(start,end))\n",
    "Gen_Random_Num()\n",
    "Gen_Random_Num(0,100)"
   ]
  }
 ],
 "metadata": {
  "kernelspec": {
   "display_name": "base",
   "language": "python",
   "name": "python3"
  },
  "language_info": {
   "codemirror_mode": {
    "name": "ipython",
    "version": 3
   },
   "file_extension": ".py",
   "mimetype": "text/x-python",
   "name": "python",
   "nbconvert_exporter": "python",
   "pygments_lexer": "ipython3",
   "version": "3.9.12"
  },
  "orig_nbformat": 4
 },
 "nbformat": 4,
 "nbformat_minor": 2
}
