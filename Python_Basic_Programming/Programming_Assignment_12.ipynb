{
 "cells": [
  {
   "attachments": {},
   "cell_type": "markdown",
   "metadata": {},
   "source": [
    "1.Write a Python program to Extract Unique values dictionary values?"
   ]
  },
  {
   "cell_type": "code",
   "execution_count": 2,
   "metadata": {},
   "outputs": [
    {
     "name": "stdout",
     "output_type": "stream",
     "text": [
      "dict_values(['Batman', 'Superman', 'Green Lantern', 'Hulk', 'Iron man'])\n",
      "Unique Values: ['Superman', 'Hulk', 'Iron man', 'Green Lantern', 'Batman']\n"
     ]
    }
   ],
   "source": [
    "In_Dict = {\n",
    "    1: \"Batman\",\n",
    "    2: \"Superman\",\n",
    "    3: \"Green Lantern\",\n",
    "    4: \"Hulk\",\n",
    "    5: \"Iron man\",\n",
    "    \n",
    "}\n",
    "print(In_Dict.values())\n",
    "print(f\"Unique Values: {list(set(In_Dict.values()))}\")"
   ]
  },
  {
   "attachments": {},
   "cell_type": "markdown",
   "metadata": {},
   "source": [
    "2.Write a Python program to find the sum of all items in a dictionary?"
   ]
  },
  {
   "cell_type": "code",
   "execution_count": 5,
   "metadata": {},
   "outputs": [
    {
     "name": "stdout",
     "output_type": "stream",
     "text": [
      "Sum of All items:  300\n"
     ]
    }
   ],
   "source": [
    "In_Dict = {\"1\": 10, \"2\": 20, \"3\": 30, \"4\": 40, \"5\": 200}\n",
    "print(\"Sum of All items: \", sum(In_Dict.values()))"
   ]
  },
  {
   "attachments": {},
   "cell_type": "markdown",
   "metadata": {},
   "source": [
    "3.Write a Python program to Merging two Dictionaries?"
   ]
  },
  {
   "cell_type": "code",
   "execution_count": 6,
   "metadata": {},
   "outputs": [
    {
     "name": "stdout",
     "output_type": "stream",
     "text": [
      "{'Course_name': 'Ineuron', 'Course_instructors': ['Sudhanshu Kumar', 'Krish Naik']}\n"
     ]
    }
   ],
   "source": [
    "course_details = {\"Course_name\": \"Ineuron\"}\n",
    "instructors = {\"Course_instructors\": [\"Sudhanshu Kumar\", \"Krish Naik\"]}\n",
    "course_details.update(instructors)\n",
    "print(course_details)"
   ]
  },
  {
   "attachments": {},
   "cell_type": "markdown",
   "metadata": {},
   "source": [
    "4.Write a Python program to convert key-values list to flat dictionary?"
   ]
  },
  {
   "cell_type": "code",
   "execution_count": 7,
   "metadata": {},
   "outputs": [
    {
     "data": {
      "text/plain": [
       "{'A': 10,\n",
       " 'B': 20,\n",
       " 'C': 30,\n",
       " 'D': 40,\n",
       " 'E': 50,\n",
       " 'F': 60,\n",
       " 'G': 70,\n",
       " 'H': 80,\n",
       " 'I': 90,\n",
       " 'J': 100}"
      ]
     },
     "execution_count": 7,
     "metadata": {},
     "output_type": "execute_result"
    }
   ],
   "source": [
    "in_list = [\n",
    "    (\"A\", 10),\n",
    "    (\"B\", 20),\n",
    "    (\"C\", 30),\n",
    "    (\"D\", 40),\n",
    "    (\"E\", 50),\n",
    "    (\"F\", 60),\n",
    "    (\"G\", 70),\n",
    "    (\"H\", 80),\n",
    "    (\"I\", 90),\n",
    "    (\"J\", 100),\n",
    "]\n",
    "\n",
    "dict(in_list)"
   ]
  },
  {
   "attachments": {},
   "cell_type": "markdown",
   "metadata": {},
   "source": [
    "5.Write a Python program to insertion at the beginning in OrderedDict?"
   ]
  },
  {
   "cell_type": "code",
   "execution_count": null,
   "metadata": {},
   "outputs": [],
   "source": [
    "from collections import OrderedDict\n",
    "\n",
    "Dict_One = OrderedDict({\"Apple\": \"Iphone\", \"Microsoft\": \"Windows\", \"Google\": \"chrome\"})\n",
    "print(\"dict_one\", Dict_One)\n",
    "Dict_Two = {\"Tesla\": \"SpaceX\"}\n",
    "Dict_One.update(Dict_Two)\n",
    "print(\"dict_one\", Dict_One)\n",
    "Dict_One.move_to_end(\"Tesla\", last=False)\n",
    "print(\"dict_one\", Dict_One)"
   ]
  },
  {
   "attachments": {},
   "cell_type": "markdown",
   "metadata": {},
   "source": [
    "6.Write a Python program to check order of character in string using OrderedDict()?"
   ]
  },
  {
   "cell_type": "code",
   "execution_count": null,
   "metadata": {},
   "outputs": [],
   "source": [
    "from collections import OrderedDict\n",
    "\n",
    "Initial_List = {\"a\": 1000, \"f\": 200, \"d\": 300, \"c\": 400, \"b\": 500, \"e\": 600}\n",
    "print(Initial_List)\n",
    "\n",
    "Final_List = OrderedDict(dict(sorted(Initial_List.items())))\n",
    "print(Final_List)"
   ]
  },
  {
   "attachments": {},
   "cell_type": "markdown",
   "metadata": {},
   "source": [
    "7.Write a Python program to sort Python Dictionaries by Key or Value?"
   ]
  },
  {
   "cell_type": "code",
   "execution_count": 1,
   "metadata": {},
   "outputs": [
    {
     "name": "stdout",
     "output_type": "stream",
     "text": [
      "{'Banana': 60, 'Grape': 13, 'Mango': 100, 'PineApple': 22}\n",
      "{'Grape': 13, 'PineApple': 22, 'Banana': 60, 'Mango': 100}\n"
     ]
    }
   ],
   "source": [
    "D_Items = {\"Mango\": 100, \"PineApple\": 22, \"Banana\": 60, \"Grape\": 13}\n",
    "\n",
    "\n",
    "def Sort_Dict(in_dict, sort_type):\n",
    "    if sort_type == \"key\":\n",
    "        print(dict(sorted(in_dict.items(), key=lambda x: x[0], reverse=False)))\n",
    "    else:\n",
    "        print(dict(sorted(in_dict.items(), key=lambda x: x[1], reverse=False)))\n",
    "\n",
    "\n",
    "Sort_Dict(D_Items, \"key\")\n",
    "Sort_Dict(D_Items, \"value\")"
   ]
  }
 ],
 "metadata": {
  "kernelspec": {
   "display_name": "ReviewFlask9",
   "language": "python",
   "name": "python3"
  },
  "language_info": {
   "codemirror_mode": {
    "name": "ipython",
    "version": 3
   },
   "file_extension": ".py",
   "mimetype": "text/x-python",
   "name": "python",
   "nbconvert_exporter": "python",
   "pygments_lexer": "ipython3",
   "version": "3.9.12"
  },
  "orig_nbformat": 4
 },
 "nbformat": 4,
 "nbformat_minor": 2
}
