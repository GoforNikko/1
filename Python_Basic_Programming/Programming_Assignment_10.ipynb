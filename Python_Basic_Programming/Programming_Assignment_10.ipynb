{
 "cells": [
  {
   "attachments": {},
   "cell_type": "markdown",
   "metadata": {},
   "source": [
    "1.Write a Python Program to find sum of elements in a list ?"
   ]
  },
  {
   "cell_type": "code",
   "execution_count": 1,
   "metadata": {},
   "outputs": [
    {
     "name": "stdout",
     "output_type": "stream",
     "text": [
      "Sum of Elements: 15\n"
     ]
    }
   ],
   "source": [
    "def Sum_Of_List():\n",
    "    in_ele = int(input(\"Enter the No of Entries in a List: \"))\n",
    "    in_list = []\n",
    "    for itr in range(in_ele):\n",
    "        in_list.append(int(input(\"Enter a element: \")))\n",
    "    print(f\"Sum of Elements: {sum(in_list)}\")\n",
    "\n",
    "\n",
    "Sum_Of_List()"
   ]
  },
  {
   "attachments": {},
   "cell_type": "markdown",
   "metadata": {},
   "source": [
    "2.Write a Python Program to multiply all numbers in the list ?"
   ]
  },
  {
   "cell_type": "code",
   "execution_count": 2,
   "metadata": {},
   "outputs": [
    {
     "name": "stdout",
     "output_type": "stream",
     "text": [
      "120\n"
     ]
    }
   ],
   "source": [
    "def Mul_Of_List():\n",
    "    in_ele = int(input(\"Enter the No of Entries in a List: \"))\n",
    "    in_list = []\n",
    "    mul = 1\n",
    "    for itr in range(in_ele):\n",
    "        in_list.append(int(input(\"Enter a element: \")))\n",
    "    for ele in in_list:\n",
    "        mul = mul * ele\n",
    "    print(mul)\n",
    "\n",
    "\n",
    "Mul_Of_List()"
   ]
  },
  {
   "attachments": {},
   "cell_type": "markdown",
   "metadata": {},
   "source": [
    "3.Write a Python Program to find smallest number in the list ?"
   ]
  },
  {
   "cell_type": "code",
   "execution_count": 3,
   "metadata": {},
   "outputs": [
    {
     "name": "stdout",
     "output_type": "stream",
     "text": [
      "The Smallest Element in [22, 55, 88, 44, 77] is 22\n"
     ]
    }
   ],
   "source": [
    "def Small_Ele_InList():\n",
    "    in_ele = int(input(\"Enter the No of elements in a list: \"))\n",
    "    in_list = []\n",
    "    for ele in range(in_ele):\n",
    "        in_list.append(int(input(\"Enter a Element: \")))\n",
    "    print(f\"The Smallest Element in {in_list} is {sorted(in_list)[0]}\")\n",
    "\n",
    "\n",
    "Small_Ele_InList()"
   ]
  },
  {
   "attachments": {},
   "cell_type": "markdown",
   "metadata": {},
   "source": [
    "4.Write a Python Program to find largest number in the list ?"
   ]
  },
  {
   "cell_type": "code",
   "execution_count": 4,
   "metadata": {},
   "outputs": [
    {
     "name": "stdout",
     "output_type": "stream",
     "text": [
      "The Largest Element in [11, 22, 56, 88, 99] is 99\n"
     ]
    }
   ],
   "source": [
    "def Largest_Ele_InList():\n",
    "    in_ele = int(input(\"Enter the No of elements in a list: \"))\n",
    "    in_list = []\n",
    "    for ele in range(in_ele):\n",
    "        in_list.append(int(input(\"Enter a Element: \")))\n",
    "    print(f\"The Largest Element in {in_list} is {sorted(in_list, reverse=True)[0]}\")\n",
    "\n",
    "\n",
    "Largest_Ele_InList()"
   ]
  },
  {
   "attachments": {},
   "cell_type": "markdown",
   "metadata": {},
   "source": [
    "5.Write a Python Program to find second largest number in the list ?"
   ]
  },
  {
   "cell_type": "code",
   "execution_count": 5,
   "metadata": {},
   "outputs": [
    {
     "name": "stdout",
     "output_type": "stream",
     "text": [
      "The Second Largest Element in [102, 55, 489, 62, 33] is 102\n"
     ]
    }
   ],
   "source": [
    "def Second_Largest_Ele_InList():\n",
    "    in_ele = int(input(\"Enter the No of elements in a list: \"))\n",
    "    in_list = []\n",
    "    for ele in range(in_ele):\n",
    "        in_list.append(int(input(\"Enter a Element: \")))\n",
    "    print(\n",
    "        f\"The Second Largest Element in {in_list} is {sorted(in_list, reverse=True)[1]}\"\n",
    "    )\n",
    "\n",
    "\n",
    "Second_Largest_Ele_InList()"
   ]
  },
  {
   "attachments": {},
   "cell_type": "markdown",
   "metadata": {},
   "source": [
    "6.Write a Python Program to find N largest elements in the list ?"
   ]
  },
  {
   "cell_type": "code",
   "execution_count": 7,
   "metadata": {},
   "outputs": [
    {
     "name": "stdout",
     "output_type": "stream",
     "text": [
      "The 8 Largest Element in [4, 7, 8, 9, 6] is [9, 8, 7, 6, 4]\n"
     ]
    }
   ],
   "source": [
    "def nLargest_Ele_In_List(p):\n",
    "    in_ele = int(input(\"Enter the No of elements in a list: \"))\n",
    "    in_list = []\n",
    "    for ele in range(in_ele):\n",
    "        in_list.append(int(input(\"Enter a Element: \")))\n",
    "    print(\n",
    "        f\"The {p} Largest Element in {in_list} is {sorted(in_list, reverse=True)[0:p]}\"\n",
    "    )\n",
    "\n",
    "\n",
    "nLargest_Ele_In_List(8)"
   ]
  },
  {
   "attachments": {},
   "cell_type": "markdown",
   "metadata": {},
   "source": [
    "7.Write a Python Program to find even numbers in the list ?"
   ]
  },
  {
   "cell_type": "code",
   "execution_count": 8,
   "metadata": {},
   "outputs": [
    {
     "name": "stdout",
     "output_type": "stream",
     "text": [
      "The Even Elements in [99, 1025, 64, 8, 52] are [64, 8, 52]\n"
     ]
    }
   ],
   "source": [
    "def Even_No_List():\n",
    "    in_ele = int(input(\"Enter the No of elements in a list: \"))\n",
    "    in_list = []\n",
    "    even_list = []\n",
    "    for ele in range(in_ele):\n",
    "        in_list.append(int(input(\"Enter a Element: \")))\n",
    "    for ele in in_list:\n",
    "        if ele % 2 == 0:\n",
    "            even_list.append(ele)\n",
    "    print(f\"The Even Elements in {in_list} are {even_list}\")\n",
    "\n",
    "\n",
    "Even_No_List()"
   ]
  },
  {
   "attachments": {},
   "cell_type": "markdown",
   "metadata": {},
   "source": [
    "8.Write a Python Program to find odd numbers in the list ?"
   ]
  },
  {
   "cell_type": "code",
   "execution_count": 9,
   "metadata": {},
   "outputs": [
    {
     "name": "stdout",
     "output_type": "stream",
     "text": [
      "The Even Elements in [88, 77, 232, 36, 212] are [77]\n"
     ]
    }
   ],
   "source": [
    "def Odd_No_List():\n",
    "    in_ele = int(input(\"Enter the No of elements in a list: \"))\n",
    "    in_list = []\n",
    "    odd_list = []\n",
    "    for ele in range(in_ele):\n",
    "        in_list.append(int(input(\"Enter a Element: \")))\n",
    "    for ele in in_list:\n",
    "        if ele % 2 != 0:\n",
    "            odd_list.append(ele)\n",
    "    print(f\"The Even Elements in {in_list} are {odd_list}\")\n",
    "\n",
    "\n",
    "Odd_No_List()"
   ]
  },
  {
   "attachments": {},
   "cell_type": "markdown",
   "metadata": {},
   "source": [
    "\n",
    "9.Write a Python Program to remove empty list from list ?"
   ]
  },
  {
   "cell_type": "code",
   "execution_count": 12,
   "metadata": {},
   "outputs": [
    {
     "name": "stdout",
     "output_type": "stream",
     "text": [
      "There is an Empty list in [1, 2, 5, [], 6, 9] at Position 3\n",
      "The List after removing [] is [1, 2, 5, 6, 9]\n"
     ]
    }
   ],
   "source": [
    "def Check_Empty_List():\n",
    "    in_list = eval(input(\"Enter all elements of the list: \"))\n",
    "    if [] in in_list:\n",
    "        print(f\"There is an Empty list in {in_list} at Position {in_list.index([])}\")\n",
    "        in_list.remove([])\n",
    "        print(f\"The List after removing [] is {in_list}\")\n",
    "    else:\n",
    "        print(f\"There is no [] List in the list {in_list}\")\n",
    "\n",
    "\n",
    "Check_Empty_List()"
   ]
  },
  {
   "attachments": {},
   "cell_type": "markdown",
   "metadata": {},
   "source": [
    "10.Write a Python Program to Cloning or Copying a list ?"
   ]
  },
  {
   "cell_type": "code",
   "execution_count": 13,
   "metadata": {},
   "outputs": [
    {
     "name": "stdout",
     "output_type": "stream",
     "text": [
      "[1, 2, 3, 6, 9] 2026865866624\n",
      "[1, 2, 3, 6, 9] 2026865367104\n"
     ]
    }
   ],
   "source": [
    "import copy\n",
    "\n",
    "\n",
    "def Clone_List():\n",
    "    in_list = eval(input(\"Enter a list\"))\n",
    "    print(in_list, id(in_list))\n",
    "    cloned_list = in_list.copy()\n",
    "    print(cloned_list, id(cloned_list))\n",
    "\n",
    "\n",
    "Clone_List()"
   ]
  },
  {
   "attachments": {},
   "cell_type": "markdown",
   "metadata": {},
   "source": [
    "11.Write a Python Program to count occurences of an element in a list ?"
   ]
  },
  {
   "cell_type": "code",
   "execution_count": 14,
   "metadata": {},
   "outputs": [
    {
     "name": "stdout",
     "output_type": "stream",
     "text": [
      "There are 1 occurences of 9 in [1, 2, 5, 9, 97, 7, 8, 6, 3, 2, 5, 4, 7]\n"
     ]
    }
   ],
   "source": [
    "def Check_Occurence():\n",
    "    in_list = eval(input(\"Enter the elements of the list: \"))\n",
    "    in_num = eval(input(\"Enter the element to find: \"))\n",
    "    count = 0\n",
    "    if in_num in in_list:\n",
    "        for ele in in_list:\n",
    "            if ele == in_num:\n",
    "                count = count + 1\n",
    "    print(f\"There are {count} occurences of {in_num} in {in_list}\")\n",
    "\n",
    "\n",
    "Check_Occurence()"
   ]
  }
 ],
 "metadata": {
  "kernelspec": {
   "display_name": "base",
   "language": "python",
   "name": "python3"
  },
  "language_info": {
   "codemirror_mode": {
    "name": "ipython",
    "version": 3
   },
   "file_extension": ".py",
   "mimetype": "text/x-python",
   "name": "python",
   "nbconvert_exporter": "python",
   "pygments_lexer": "ipython3",
   "version": "3.9.12"
  },
  "orig_nbformat": 4
 },
 "nbformat": 4,
 "nbformat_minor": 2
}
