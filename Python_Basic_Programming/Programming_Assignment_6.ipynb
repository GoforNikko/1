{
 "cells": [
  {
   "attachments": {},
   "cell_type": "markdown",
   "metadata": {},
   "source": [
    "1. Write a Python Program to Display Fibonacci Sequence using Recursion ?"
   ]
  },
  {
   "cell_type": "code",
   "execution_count": 2,
   "metadata": {},
   "outputs": [
    {
     "name": "stdout",
     "output_type": "stream",
     "text": [
      "0, 1, 3, 5, 8, 13, 21, 34, 55, 89, 144, 233, "
     ]
    }
   ],
   "source": [
    "def genFibonacci(n, a, b):\n",
    "    if n == 0:\n",
    "        return 1\n",
    "    else:\n",
    "        result = a + b\n",
    "        print(result, end=\", \")\n",
    "        genFibonacci(n - 1, b, result)\n",
    "\n",
    "\n",
    "in_num = int(input(\"Enter the length of Series: \"))\n",
    "print(\"0, 1\", end=\", \")\n",
    "genFibonacci(in_num, 1, 2)\n"
   ]
  },
  {
   "attachments": {},
   "cell_type": "markdown",
   "metadata": {},
   "source": [
    "2. Write a Python Program to Find Factorial of a Number using Recursion ?"
   ]
  },
  {
   "cell_type": "code",
   "execution_count": 3,
   "metadata": {},
   "outputs": [
    {
     "name": "stdout",
     "output_type": "stream",
     "text": [
      "The Factorial of 10 is 3628800\n"
     ]
    }
   ],
   "source": [
    "def factorial(num):\n",
    "    if num < 1:\n",
    "        return 1\n",
    "    else:\n",
    "        return num * factorial(num - 1)\n",
    "\n",
    "\n",
    "num = int(input(\"Enter a number: \"))\n",
    "value = factorial(num)\n",
    "print(f\"The Factorial of {num} is {value}\")\n"
   ]
  },
  {
   "attachments": {},
   "cell_type": "markdown",
   "metadata": {},
   "source": [
    "3. Write a Python Program to Calculate your Body Mass Index "
   ]
  },
  {
   "cell_type": "code",
   "execution_count": 4,
   "metadata": {},
   "outputs": [
    {
     "name": "stdout",
     "output_type": "stream",
     "text": [
      "Your're BMI is 0.0023148148148148147 and status is Underweight \n"
     ]
    }
   ],
   "source": [
    "def calculateBMI():\n",
    "    in_weight = eval(input(\"Enter your Weight(kgs): \"))\n",
    "    in_height = eval(input(\"Enter your Height(mts): \"))\n",
    "    calc_bmi = in_weight / pow(in_height, 2)\n",
    "    if calc_bmi < 18.5:\n",
    "        status = \"Underweight\"\n",
    "    elif calc_bmi >= 18.5 and calc_bmi < 24.9:\n",
    "        status = \"Healthy\"\n",
    "    elif calc_bmi >= 24.9 and calc_bmi < 30:\n",
    "        status = \"Overweight\"\n",
    "    elif calc_bmi >= 30:\n",
    "        status = \"Suffering from Obesity\"\n",
    "    print(f\"Your're BMI is {calc_bmi} and status is {status} \")\n",
    "\n",
    "\n",
    "calculateBMI()"
   ]
  },
  {
   "attachments": {},
   "cell_type": "markdown",
   "metadata": {},
   "source": [
    "4. Write a Python Program to Calculate the Natural Logarithm of any Number ?"
   ]
  },
  {
   "cell_type": "code",
   "execution_count": 5,
   "metadata": {},
   "outputs": [
    {
     "name": "stdout",
     "output_type": "stream",
     "text": [
      "2.302585092994046\n"
     ]
    }
   ],
   "source": [
    "import math\n",
    "\n",
    "\n",
    "def genNatLog():\n",
    "    in_num = eval(input(\"Enter a Number:\"))\n",
    "    print(math.log(in_num))\n",
    "\n",
    "\n",
    "genNatLog()\n"
   ]
  },
  {
   "attachments": {},
   "cell_type": "markdown",
   "metadata": {},
   "source": [
    "5. Write a Python Program for Cube sum of first n Natural Numbers ?"
   ]
  },
  {
   "cell_type": "code",
   "execution_count": 7,
   "metadata": {},
   "outputs": [
    {
     "name": "stdout",
     "output_type": "stream",
     "text": [
      "The Cube Sum of First 20 Natural Numbers is 44100.0\n"
     ]
    }
   ],
   "source": [
    "def CNN():\n",
    "    in_num = int(input(\"Enter the no of Natural Numbers: \"))\n",
    "    result = pow(((in_num * (in_num + 1)) / 2), 2)\n",
    "    print(f\"The Cube Sum of First {in_num} Natural Numbers is {result}\")\n",
    "\n",
    "\n",
    "CNN()"
   ]
  }
 ],
 "metadata": {
  "kernelspec": {
   "display_name": "base",
   "language": "python",
   "name": "python3"
  },
  "language_info": {
   "codemirror_mode": {
    "name": "ipython",
    "version": 3
   },
   "file_extension": ".py",
   "mimetype": "text/x-python",
   "name": "python",
   "nbconvert_exporter": "python",
   "pygments_lexer": "ipython3",
   "version": "3.9.12"
  },
  "orig_nbformat": 4
 },
 "nbformat": 4,
 "nbformat_minor": 2
}
