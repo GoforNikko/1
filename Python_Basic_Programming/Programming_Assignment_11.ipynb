{
 "cells": [
  {
   "attachments": {},
   "cell_type": "markdown",
   "metadata": {},
   "source": [
    "\n",
    "1. Write a Python program to find words which are greater than given length k ?"
   ]
  },
  {
   "cell_type": "code",
   "execution_count": 1,
   "metadata": {},
   "outputs": [
    {
     "name": "stdout",
     "output_type": "stream",
     "text": [
      "\"ineuron,instituite,science\"\n"
     ]
    }
   ],
   "source": [
    "def Check_Length_Of_String():\n",
    "    in_string = input(\"Enter the string: \")\n",
    "    in_length = int(input(\"Enter the length of the string: \"))\n",
    "    out_string = []\n",
    "    for string in in_string.split(\" \"):\n",
    "        if len(string) > in_length:\n",
    "            out_string.append(string)\n",
    "    print(\",\".join(out_string))\n",
    "\n",
    "\n",
    "Check_Length_Of_String()"
   ]
  },
  {
   "attachments": {},
   "cell_type": "markdown",
   "metadata": {},
   "source": [
    "2. Write a Python program for removing i-th character from a string ?"
   ]
  },
  {
   "cell_type": "code",
   "execution_count": 2,
   "metadata": {},
   "outputs": [
    {
     "name": "stdout",
     "output_type": "stream",
     "text": [
      "\"ieuron\"\n"
     ]
    }
   ],
   "source": [
    "def RemoveCharacter():\n",
    "    in_string = input(\"Enter the String: \")\n",
    "    in_char_num = int(input(\"Enter the ith Character: \"))\n",
    "    out_string = \"\"\n",
    "    for ele in range(len(in_string)):\n",
    "        if ele != in_char_num:\n",
    "            out_string = out_string + in_string[ele]\n",
    "    print(out_string)\n",
    "\n",
    "\n",
    "RemoveCharacter()"
   ]
  },
  {
   "attachments": {},
   "cell_type": "markdown",
   "metadata": {},
   "source": [
    "3. Write a Python program to split and join a string ?"
   ]
  },
  {
   "cell_type": "code",
   "execution_count": 3,
   "metadata": {},
   "outputs": [
    {
     "name": "stdout",
     "output_type": "stream",
     "text": [
      "Split String: ['\"ineuron', 'full', 'stack', 'data', 'science\"']\n",
      "Join String: \"ineuron full stack data science\"\n"
     ]
    }
   ],
   "source": [
    "def Split_Join_String():\n",
    "    in_string = input(\"Enter the string: \")\n",
    "    print(f\"Split String: {in_string.split(' ')}\")\n",
    "    print(f\"Join String: {' '.join(in_string.split(' '))}\")\n",
    "\n",
    "\n",
    "Split_Join_String()"
   ]
  },
  {
   "attachments": {},
   "cell_type": "markdown",
   "metadata": {},
   "source": [
    "4. Write a Python to check if a given string is binary string or not ?"
   ]
  },
  {
   "cell_type": "code",
   "execution_count": 5,
   "metadata": {},
   "outputs": [
    {
     "name": "stdout",
     "output_type": "stream",
     "text": [
      "101010 is a binary string\n"
     ]
    }
   ],
   "source": [
    "def Check_Binary():\n",
    "    in_string = input(\"Enter the string: \")\n",
    "    stun = 0\n",
    "    for ele in in_string:\n",
    "        if ele in [\"0\", \"1\"]:\n",
    "            stun = 1\n",
    "            continue\n",
    "        else:\n",
    "            stun = 0\n",
    "            break\n",
    "    statement = \"is a binary string\" if stun == 1 else \"is not a binart string\"\n",
    "    print(f\"{in_string} {statement}\")\n",
    "\n",
    "\n",
    "Check_Binary()\n"
   ]
  },
  {
   "attachments": {},
   "cell_type": "markdown",
   "metadata": {},
   "source": [
    "5. Write a Python program to find uncommon words from two Strings ?"
   ]
  },
  {
   "cell_type": "code",
   "execution_count": 7,
   "metadata": {},
   "outputs": [
    {
     "name": "stdout",
     "output_type": "stream",
     "text": [
      "{'learn'}\n"
     ]
    }
   ],
   "source": [
    "def unCommonWords():\n",
    "    in_string_1 = set(input(\"Enter the String 1: \").split(\" \"))\n",
    "    in_string_2 = set(input(\"Enter the String 2: \").split(\" \"))\n",
    "    out_string = (in_string_1.union(in_string_2)).difference(\n",
    "        in_string_1.intersection(in_string_2)\n",
    "    )\n",
    "    print(out_string)\n",
    "\n",
    "\n",
    "unCommonWords()"
   ]
  },
  {
   "attachments": {},
   "cell_type": "markdown",
   "metadata": {},
   "source": [
    "6. Write a Python to find all duplicate characters in string ?"
   ]
  },
  {
   "cell_type": "code",
   "execution_count": 8,
   "metadata": {},
   "outputs": [
    {
     "name": "stdout",
     "output_type": "stream",
     "text": [
      "Duplicate characters are: ['e', 'c', 'n', 't', 'a', 'i', 's', 'u', 'l', ' ']\n"
     ]
    }
   ],
   "source": [
    "def Duplicate_Chars():\n",
    "    in_string = input(\"Enter the string: \")\n",
    "    non_duplicate_list = []\n",
    "    duplicate_list = []\n",
    "    for ele in in_string:\n",
    "        if ele not in non_duplicate_list:\n",
    "            non_duplicate_list.append(ele)\n",
    "        else:\n",
    "            duplicate_list.append(ele)\n",
    "    print(f\"Duplicate characters are: {list(set(duplicate_list))}\")\n",
    "\n",
    "\n",
    "Duplicate_Chars()"
   ]
  },
  {
   "attachments": {},
   "cell_type": "markdown",
   "metadata": {},
   "source": [
    "7. Write a Python Program to check if a string contains any special character?"
   ]
  },
  {
   "cell_type": "code",
   "execution_count": 9,
   "metadata": {},
   "outputs": [
    {
     "name": "stdout",
     "output_type": "stream",
     "text": [
      "There are 1 Speical Characters in data @ science which are ['@']\n"
     ]
    }
   ],
   "source": [
    "def Check_Special_Char():\n",
    "    spl_chars = \"[@_!#$%^&*()<>?/\\|}{~:]\"\n",
    "    in_num = input(\"Enter the string: \")\n",
    "    count = 0\n",
    "    char_list = []\n",
    "    for ele in in_num:\n",
    "        if ele in spl_chars:\n",
    "            char_list.append(ele)\n",
    "            count = count + 1\n",
    "    print(f\"There are {count} Speical Characters in {in_num} which are {char_list}\")\n",
    "\n",
    "\n",
    "Check_Special_Char()"
   ]
  }
 ],
 "metadata": {
  "kernelspec": {
   "display_name": "base",
   "language": "python",
   "name": "python3"
  },
  "language_info": {
   "codemirror_mode": {
    "name": "ipython",
    "version": 3
   },
   "file_extension": ".py",
   "mimetype": "text/x-python",
   "name": "python",
   "nbconvert_exporter": "python",
   "pygments_lexer": "ipython3",
   "version": "3.9.12"
  },
  "orig_nbformat": 4
 },
 "nbformat": 4,
 "nbformat_minor": 2
}
