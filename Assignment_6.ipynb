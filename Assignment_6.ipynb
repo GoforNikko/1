{
 "cells": [
  {
   "cell_type": "code",
   "execution_count": null,
   "id": "ba933a26",
   "metadata": {},
   "outputs": [],
   "source": [
    "#1\\. What are escape characters, and how do you use them?"
   ]
  },
  {
   "cell_type": "markdown",
   "id": "d4bb2b1f",
   "metadata": {},
   "source": [
    "In Python strings, the backslash() is a special character, also called the \"escape\" character. It is used in representing certain whitespace characters: \"\\t\" is a tab, \"\\n\" is a newline, and \"\\r\" is a carriage return\n",
    "prefixing a special character with() turns it into an ordinary character. This is called \"escaping\""
   ]
  },
  {
   "cell_type": "code",
   "execution_count": null,
   "id": "4cc909fe",
   "metadata": {},
   "outputs": [],
   "source": [
    "#2\\. What do the escape characters n and t stand for?"
   ]
  },
  {
   "cell_type": "markdown",
   "id": "8ff2cb3c",
   "metadata": {},
   "source": [
    "\"\\t\" is for tab space \"\\n\" is for a newline"
   ]
  },
  {
   "cell_type": "code",
   "execution_count": null,
   "id": "3e9ef204",
   "metadata": {},
   "outputs": [],
   "source": [
    "#3\\. What is the way to include backslash characters in a string?"
   ]
  },
  {
   "cell_type": "markdown",
   "id": "d0f0c353",
   "metadata": {},
   "source": [
    "You need to append backslash with another backslash to include the backslash in your strings"
   ]
  },
  {
   "cell_type": "code",
   "execution_count": null,
   "id": "d623a857",
   "metadata": {},
   "outputs": [],
   "source": [
    "#4\\. The string \"Howl's Moving Castle\" is a correct value. Why isn't the\n",
    "#single quote character in the word Howl's not escaped a problem?"
   ]
  },
  {
   "cell_type": "markdown",
   "id": "6b311c34",
   "metadata": {},
   "source": [
    "The single quote in Howl's is fine because we've used double quotes to mark the beginning and end of the string"
   ]
  },
  {
   "cell_type": "code",
   "execution_count": null,
   "id": "bac68576",
   "metadata": {},
   "outputs": [],
   "source": [
    "#5\\. How do you write a string of newlines if you don't want to use the n\n",
    "#character?"
   ]
  },
  {
   "cell_type": "markdown",
   "id": "efb1bc2d",
   "metadata": {},
   "source": [
    "we can use Pythons multi line strings that done using triple quotes"
   ]
  },
  {
   "cell_type": "markdown",
   "id": "41f43c5d",
   "metadata": {},
   "source": [
    "#6\\. What are the values of the given expressions?\n",
    "\n",
    "'Hello, world!'\\[1\\]\n",
    "\n",
    "'Hello, world!'\\[0:5\\]\n",
    "\n",
    "'Hello, world!'\\[:5\\]\n",
    "\n",
    "'Hello, world!'\\[3:\\]"
   ]
  },
  {
   "cell_type": "code",
   "execution_count": 7,
   "id": "7a78bc9b",
   "metadata": {},
   "outputs": [
    {
     "data": {
      "text/plain": [
       "'e'"
      ]
     },
     "execution_count": 7,
     "metadata": {},
     "output_type": "execute_result"
    }
   ],
   "source": [
    "'Hello, world!'[1]"
   ]
  },
  {
   "cell_type": "code",
   "execution_count": 5,
   "id": "90f96294",
   "metadata": {},
   "outputs": [
    {
     "data": {
      "text/plain": [
       "'Hello'"
      ]
     },
     "execution_count": 5,
     "metadata": {},
     "output_type": "execute_result"
    }
   ],
   "source": [
    "'Hello, world!'[:5]"
   ]
  },
  {
   "cell_type": "code",
   "execution_count": 6,
   "id": "80734783",
   "metadata": {},
   "outputs": [
    {
     "data": {
      "text/plain": [
       "'lo, world!'"
      ]
     },
     "execution_count": 6,
     "metadata": {},
     "output_type": "execute_result"
    }
   ],
   "source": [
    "'Hello, world!'[3:]"
   ]
  },
  {
   "cell_type": "code",
   "execution_count": 4,
   "id": "c3f05988",
   "metadata": {},
   "outputs": [
    {
     "data": {
      "text/plain": [
       "'Hello'"
      ]
     },
     "execution_count": 4,
     "metadata": {},
     "output_type": "execute_result"
    }
   ],
   "source": [
    "'Hello, world!'[0:5]"
   ]
  },
  {
   "cell_type": "markdown",
   "id": "4436bc35",
   "metadata": {},
   "source": [
    "#7\\. What are the values of the following expressions?\n",
    "\n",
    "Hello'.upper()'\n",
    "\n",
    "'Hello'.upper().isupper()\n",
    "\n",
    "'Hello'.upper().lower()"
   ]
  },
  {
   "cell_type": "code",
   "execution_count": 8,
   "id": "bb157589",
   "metadata": {},
   "outputs": [
    {
     "data": {
      "text/plain": [
       "'HELLO'"
      ]
     },
     "execution_count": 8,
     "metadata": {},
     "output_type": "execute_result"
    }
   ],
   "source": [
    "'Hello'.upper()"
   ]
  },
  {
   "cell_type": "code",
   "execution_count": 9,
   "id": "4b739890",
   "metadata": {},
   "outputs": [
    {
     "data": {
      "text/plain": [
       "True"
      ]
     },
     "execution_count": 9,
     "metadata": {},
     "output_type": "execute_result"
    }
   ],
   "source": [
    "'Hello'.upper().isupper()"
   ]
  },
  {
   "cell_type": "code",
   "execution_count": 10,
   "id": "7fb6e8d5",
   "metadata": {},
   "outputs": [
    {
     "data": {
      "text/plain": [
       "'hello'"
      ]
     },
     "execution_count": 10,
     "metadata": {},
     "output_type": "execute_result"
    }
   ],
   "source": [
    "'Hello'.upper().lower()"
   ]
  },
  {
   "cell_type": "markdown",
   "id": "8540dc8e",
   "metadata": {},
   "source": [
    "#8\\. What are the values of the following expressions?\n",
    "\n",
    "'Remember, remember, the fifth of July.'.split()\n",
    "\n",
    "'-'.join('There can only one.'.split())"
   ]
  },
  {
   "cell_type": "code",
   "execution_count": 11,
   "id": "96afd2bd",
   "metadata": {},
   "outputs": [
    {
     "data": {
      "text/plain": [
       "['Remember,', 'remember,', 'the', 'fifth', 'of', 'July.']"
      ]
     },
     "execution_count": 11,
     "metadata": {},
     "output_type": "execute_result"
    }
   ],
   "source": [
    "'Remember, remember, the fifth of July.'.split()"
   ]
  },
  {
   "cell_type": "code",
   "execution_count": 12,
   "id": "c25a1eb2",
   "metadata": {},
   "outputs": [
    {
     "data": {
      "text/plain": [
       "'There-can-only-one.'"
      ]
     },
     "execution_count": 12,
     "metadata": {},
     "output_type": "execute_result"
    }
   ],
   "source": [
    "'-'.join('There can only one.'.split())"
   ]
  },
  {
   "cell_type": "markdown",
   "id": "83b59e9d",
   "metadata": {},
   "source": [
    "#9\\. What are the methods for right-justifying, left-justifying, and\n",
    "centering a string?"
   ]
  },
  {
   "cell_type": "code",
   "execution_count": 13,
   "id": "3c9d1c14",
   "metadata": {},
   "outputs": [
    {
     "data": {
      "text/plain": [
       "'Data Scienctist;;;;;'"
      ]
     },
     "execution_count": 13,
     "metadata": {},
     "output_type": "execute_result"
    }
   ],
   "source": [
    "str1 =\"Data Scienctist\"\n",
    "str1.ljust(20,\";\")"
   ]
  },
  {
   "cell_type": "code",
   "execution_count": 14,
   "id": "9c16c486",
   "metadata": {},
   "outputs": [
    {
     "data": {
      "text/plain": [
       "'----------Data Scienctist'"
      ]
     },
     "execution_count": 14,
     "metadata": {},
     "output_type": "execute_result"
    }
   ],
   "source": [
    "str1 =\"Data Scienctist\"\n",
    "str1.rjust(25,\"-\")"
   ]
  },
  {
   "cell_type": "code",
   "execution_count": 15,
   "id": "003ed212",
   "metadata": {},
   "outputs": [
    {
     "data": {
      "text/plain": [
       "'**********************Center**********************'"
      ]
     },
     "execution_count": 15,
     "metadata": {},
     "output_type": "execute_result"
    }
   ],
   "source": [
    "str1 =\"Center\"\n",
    "str1.center(50,'*')"
   ]
  },
  {
   "cell_type": "markdown",
   "id": "e079768e",
   "metadata": {},
   "source": [
    "#10\\. What is the best way to remove whitespace characters from the start\n",
    "or end?"
   ]
  },
  {
   "cell_type": "markdown",
   "id": "9f64d481",
   "metadata": {},
   "source": [
    "lstrip() removes white spaces from left of the string\n",
    "rstrip() removes whitespaces from right of the string"
   ]
  }
 ],
 "metadata": {
  "kernelspec": {
   "display_name": "Python 3 (ipykernel)",
   "language": "python",
   "name": "python3"
  },
  "language_info": {
   "codemirror_mode": {
    "name": "ipython",
    "version": 3
   },
   "file_extension": ".py",
   "mimetype": "text/x-python",
   "name": "python",
   "nbconvert_exporter": "python",
   "pygments_lexer": "ipython3",
   "version": "3.9.12"
  }
 },
 "nbformat": 4,
 "nbformat_minor": 5
}
