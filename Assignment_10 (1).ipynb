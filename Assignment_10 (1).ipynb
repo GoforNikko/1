{
 "cells": [
  {
   "cell_type": "markdown",
   "id": "5a67333c",
   "metadata": {},
   "source": [
    "1\\. How do you distinguish between shutil.copy() and shutil.copytree()?\n",
    "\n",
    "2\\. What function is used to rename files??\n",
    "\n",
    "3\\. What is the difference between the delete functions in the\n",
    "send2trash and shutil modules?\n",
    "\n",
    "4.ZipFile objects have a close() method just like File objects’ close()\n",
    "method. What ZipFile method is equivalent to File objects’ open()\n",
    "method?\n",
    "\n",
    "5\\. Create a programme that searches a folder tree for files with a\n",
    "certain file extension (such as .pdf or .jpg). Copy these files from\n",
    "whatever location they are in to a new folder."
   ]
  },
  {
   "cell_type": "markdown",
   "id": "eebb6237-9498-4e90-8a98-a3322a941d7e",
   "metadata": {},
   "source": [
    "1\\. How do you distinguish between shutil.copy() and shutil.copytree()?"
   ]
  },
  {
   "cell_type": "markdown",
   "id": "e486da96-d43c-4e38-ae34-b430588476b2",
   "metadata": {},
   "source": [
    "shutil.copy() method is used to copy the contents of a file from one file to another file/folder\n",
    "shutil.copytree() function is used to copy the entire contents of a folder to other folder"
   ]
  },
  {
   "cell_type": "markdown",
   "id": "77a754c4-504a-407a-8334-01d18224802d",
   "metadata": {},
   "source": [
    "2\\. What function is used to rename files??"
   ]
  },
  {
   "cell_type": "markdown",
   "id": "73390c6e-fcf8-4114-bf45-c2fc7237292b",
   "metadata": {},
   "source": [
    "os.rename() function is used to rename files or directories using a python program"
   ]
  },
  {
   "cell_type": "markdown",
   "id": "e1b6ca1d-dfcd-4b1f-bffa-4028c2f98a04",
   "metadata": {},
   "source": [
    "3\\. What is the difference between the delete functions in the\n",
    "send2trash and shutil modules?"
   ]
  },
  {
   "cell_type": "markdown",
   "id": "9478cffe-ce75-4ca3-97d5-af4a31b00e80",
   "metadata": {},
   "source": [
    "Shutil module provides a funciton called as shutil.rmtree() which deletes a directory and all its contents\n",
    "Where as send2trash module provides a function called send2trash.send2trash() to delete a file/directory"
   ]
  },
  {
   "cell_type": "markdown",
   "id": "7d046af2-a788-4999-9e25-3790db78fb5e",
   "metadata": {},
   "source": [
    "4.ZipFile objects have a close() method just like File objects’ close()\n",
    "method. What ZipFile method is equivalent to File objects’ open()\n",
    "method?"
   ]
  },
  {
   "cell_type": "markdown",
   "id": "cf7cedf0-c260-4c3c-9907-c26414171731",
   "metadata": {},
   "source": [
    "ZipFile Module provides a method called as zipfile.ZipFile() to read and write to zipFiles. it takes arugments lile filename and mode etc zipfile.ZipFile('filename', mode = 'r')"
   ]
  },
  {
   "cell_type": "markdown",
   "id": "a4934904-a518-424d-b51d-f528caeacfdc",
   "metadata": {},
   "source": [
    "5\\. Create a programme that searches a folder tree for files with a\n",
    "certain file extension (such as .pdf or .jpg). Copy these files from\n",
    "whatever location they are in to a new folder."
   ]
  },
  {
   "cell_type": "code",
   "execution_count": 2,
   "id": "f9307b47-19aa-4208-9127-c89ca477f1b6",
   "metadata": {},
   "outputs": [],
   "source": [
    "import os\n",
    "import shutil\n",
    "\n",
    "def search_and_copy(source,destination,extensions):\n",
    "    source = os.path.abspath(source)\n",
    "    destination = os.path.abspath(destination)\n",
    "    for foldername, subfolder, filenames in os.walk(source):\n",
    "        print(f'Folder Name ➞ {foldername}',end='\\n\\n')\n",
    "        print(f'Sub Folders ➞ {subfolder}',end='\\n\\n')\n",
    "        print(f'Files ➞ {filenames}',end='\\n\\n')\n",
    "        for filename in filenames:\n",
    "            fileName,extension = os.path.splitext(filename)\n",
    "            if extension in extensions:\n",
    "                targetFile = foldername+os.path.sep+fileName+extension\n",
    "                shutil.copy(targetFile, destination)\n",
    "        print(f'Files copied successfully from {source} to {destination}')\n",
    "    \n",
    "extensions = ['.pdf','.jpg','.ipynb']\n",
    "source = 'Dummy Source'\n",
    "destination = 'Dummy Destination'\n",
    "search_and_copy(source, destination, extensions)"
   ]
  }
 ],
 "metadata": {
  "kernelspec": {
   "display_name": "Python 3 (ipykernel)",
   "language": "python",
   "name": "python3"
  },
  "language_info": {
   "codemirror_mode": {
    "name": "ipython",
    "version": 3
   },
   "file_extension": ".py",
   "mimetype": "text/x-python",
   "name": "python",
   "nbconvert_exporter": "python",
   "pygments_lexer": "ipython3",
   "version": "3.10.6"
  }
 },
 "nbformat": 4,
 "nbformat_minor": 5
}
