{
 "cells": [
  {
   "attachments": {},
   "cell_type": "markdown",
   "id": "b336f51a",
   "metadata": {},
   "source": [
    "1\\. In what modes should the PdfFileReader() and PdfFileWriter() File\n",
    "objects will be opened?"
   ]
  },
  {
   "attachments": {},
   "cell_type": "markdown",
   "id": "2a9320e2",
   "metadata": {},
   "source": [
    "PdfFileReader() file objects should be opened in read binary mode\n",
    "PdfFileWriter() file objects should be opened in write binary mode"
   ]
  },
  {
   "attachments": {},
   "cell_type": "markdown",
   "id": "e1bfa983",
   "metadata": {},
   "source": [
    "2\\. From a PdfFileReader object, how do you get a Page object for page\n",
    "5?"
   ]
  },
  {
   "attachments": {},
   "cell_type": "markdown",
   "id": "5671c269",
   "metadata": {},
   "source": [
    "PdfFileReader class provides method called getPage(page_no) to get a page object"
   ]
  },
  {
   "attachments": {},
   "cell_type": "markdown",
   "id": "9f052971",
   "metadata": {},
   "source": [
    "3\\. What PdfFileReader variable stores the number of pages in the PDF\n",
    "document?\n"
   ]
  },
  {
   "attachments": {},
   "cell_type": "markdown",
   "id": "136fa3fe",
   "metadata": {},
   "source": [
    "getNumpages() method of PdfFileReader class stores the no pages in a PDf documents"
   ]
  },
  {
   "attachments": {},
   "cell_type": "markdown",
   "id": "b29d46ba",
   "metadata": {},
   "source": [
    "4\\. If a PdfFileReader object’s PDF is encrypted with the password\n",
    "swordfish, what must you do before you can obtain Page objects from it?"
   ]
  },
  {
   "attachments": {},
   "cell_type": "markdown",
   "id": "cd551fdd",
   "metadata": {},
   "source": [
    "PdfFileReader object’s PDF is encrypted with the password swordfish and you're not aware of it. first read the Pdf using the PdfFileReader Class. PdfFileReader class provides a attribute called isEncrypted to check whether a pdf is encrypted or not. the method returns true if a pdf is encrypted and vice versa"
   ]
  },
  {
   "attachments": {},
   "cell_type": "markdown",
   "id": "e6fd2035",
   "metadata": {},
   "source": [
    "5\\. What methods do you use to rotate a page?"
   ]
  },
  {
   "attachments": {},
   "cell_type": "markdown",
   "id": "5445bd22",
   "metadata": {},
   "source": [
    "rotateClockWise()\n",
    "rotateCounterClockWise()"
   ]
  },
  {
   "attachments": {},
   "cell_type": "markdown",
   "id": "6c8a24c2",
   "metadata": {},
   "source": [
    "6\\. What is the difference between a Run object and a Paragraph object?"
   ]
  },
  {
   "attachments": {},
   "cell_type": "markdown",
   "id": "9a1941b4",
   "metadata": {},
   "source": [
    "A Run object demarcates a region of text within the paragraph and then a RunProperties object is used to apply bold formatting to the run\n",
    "ParagraphFormat object providing access to the formatting properties for this paragraph, such as line spacing and indentation"
   ]
  },
  {
   "attachments": {},
   "cell_type": "markdown",
   "id": "fe4c9ffa",
   "metadata": {},
   "source": [
    "7\\. How do you obtain a list of Paragraph objects for a Document object\n",
    "that’s stored in a variable named doc?"
   ]
  },
  {
   "attachments": {},
   "cell_type": "markdown",
   "id": "99205b4f",
   "metadata": {},
   "source": [
    " from docx import Document\n",
    " doc = Document(\"any_file.docx\")\n",
    " print(doc.paragraphs)\n",
    " for paragraphs in doc.paragraphs:\n",
    "    print(paragraphs.text)"
   ]
  },
  {
   "cell_type": "markdown",
   "id": "e36b18a9",
   "metadata": {},
   "source": [
    "8\\. What type of object has bold, underline, italic, strike, and outline\n",
    "variables?"
   ]
  },
  {
   "attachments": {},
   "cell_type": "markdown",
   "id": "d0235037",
   "metadata": {},
   "source": [
    "Run object has bold, underline, italic, strike, and outline variables"
   ]
  },
  {
   "attachments": {},
   "cell_type": "markdown",
   "id": "9be362e0",
   "metadata": {},
   "source": [
    "9\\. What is the difference between False, True, and None for the bold\n",
    "variable?"
   ]
  },
  {
   "cell_type": "code",
   "execution_count": 13,
   "id": "3bc60f7d",
   "metadata": {},
   "outputs": [],
   "source": [
    "bold = True # style if set to bold \n",
    "bold = False # style not set to bold \n",
    "bold = None # style is not applicable"
   ]
  },
  {
   "cell_type": "markdown",
   "id": "fa0dc1e2",
   "metadata": {},
   "source": [
    "10\\. How do you create a Document object for a new Word document?"
   ]
  },
  {
   "cell_type": "code",
   "execution_count": 14,
   "id": "c481cf85",
   "metadata": {},
   "outputs": [],
   "source": [
    "from docx import Document\n",
    "document = Document()\n",
    "document.add_paragraph(\"full stack data science\")\n",
    "document.save(\"mydocument.docx\") "
   ]
  },
  {
   "cell_type": "markdown",
   "id": "4ecb7e41",
   "metadata": {},
   "source": [
    "11\\. How do you add a paragraph with the text 'Hello, there!' to a\n",
    "Document object stored in a variable named doc?"
   ]
  },
  {
   "cell_type": "code",
   "execution_count": 15,
   "id": "03eb3cca",
   "metadata": {},
   "outputs": [],
   "source": [
    "from docx import Document\n",
    "doc = Document()\n",
    "doc.add_paragraph('hello,there!')\n",
    "doc.save('hello.docx')"
   ]
  },
  {
   "cell_type": "markdown",
   "id": "438327be",
   "metadata": {},
   "source": [
    "12\\. What integers represent the levels of headings available in Word\n",
    "documents?"
   ]
  },
  {
   "attachments": {},
   "cell_type": "markdown",
   "id": "937f1b8b",
   "metadata": {},
   "source": [
    "The levels for a heading in a word document can be specified by using the level attribute inside the add_heading method"
   ]
  }
 ],
 "metadata": {
  "kernelspec": {
   "display_name": "base",
   "language": "python",
   "name": "python3"
  },
  "language_info": {
   "codemirror_mode": {
    "name": "ipython",
    "version": 3
   },
   "file_extension": ".py",
   "mimetype": "text/x-python",
   "name": "python",
   "nbconvert_exporter": "python",
   "pygments_lexer": "ipython3",
   "version": "3.9.12"
  },
  "vscode": {
   "interpreter": {
    "hash": "a90aeebcf29d64a654773811cc170cb25061cb2498f10ac689db374c7bf325de"
   }
  }
 },
 "nbformat": 4,
 "nbformat_minor": 5
}
