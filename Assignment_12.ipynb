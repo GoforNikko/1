{
 "cells": [
  {
   "cell_type": "markdown",
   "metadata": {},
   "source": [
    "1\\. In what modes should the PdfFileReader() and PdfFileWriter() File\n",
    "objects will be opened?\n",
    "\n",
    "2\\. From a PdfFileReader object, how do you get a Page object for page\n",
    "5?\n",
    "\n",
    "3\\. What PdfFileReader variable stores the number of pages in the PDF\n",
    "document?\n",
    "\n",
    "4\\. If a PdfFileReader object’s PDF is encrypted with the password\n",
    "swordfish, what must you do before you can obtain Page objects from it?\n",
    "\n",
    "5\\. What methods do you use to rotate a page?\n",
    "\n",
    "6\\. What is the difference between a Run object and a Paragraph object?\n",
    "\n",
    "7\\. How do you obtain a list of Paragraph objects for a Document object\n",
    "that’s stored in a variable named doc?\n",
    "\n",
    "8\\. What type of object has bold, underline, italic, strike, and outline\n",
    "variables?\n",
    "\n",
    "9\\. What is the difference between False, True, and None for the bold\n",
    "variable?\n",
    "\n",
    "10\\. How do you create a Document object for a new Word document?\n",
    "\n",
    "11\\. How do you add a paragraph with the text 'Hello, there!' to a\n",
    "Document object stored in a variable named doc?\n",
    "\n",
    "12\\. What integers represent the levels of headings available in Word\n",
    "documents?"
   ]
  }
 ],
 "metadata": {
  "kernelspec": {
   "display_name": "base",
   "language": "python",
   "name": "python3"
  },
  "language_info": {
   "name": "python",
   "version": "3.9.12"
  },
  "vscode": {
   "interpreter": {
    "hash": "a90aeebcf29d64a654773811cc170cb25061cb2498f10ac689db374c7bf325de"
   }
  }
 },
 "nbformat": 4,
 "nbformat_minor": 5
}
