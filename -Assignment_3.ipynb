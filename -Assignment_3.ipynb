{
 "cells": [
  {
   "attachments": {},
   "cell_type": "markdown",
   "id": "8b887a56",
   "metadata": {},
   "source": [
    "1 Why are functions advantageous to have in your programs?\n",
    "\n",
    "ans: functions reduce the need for duplicate codes makes programe shorter and easier to read "
   ]
  },
  {
   "attachments": {},
   "cell_type": "markdown",
   "id": "8d7eddbd",
   "metadata": {},
   "source": [
    "2 When does the code in a function run: when it's specified or when\n",
    "it's called?\n",
    "\n",
    "ans: The code in a function executes when its called not specified "
   ]
  },
  {
   "attachments": {},
   "cell_type": "markdown",
   "id": "6484f745",
   "metadata": {},
   "source": [
    "3 What statement creates a function?\n",
    "\n",
    "ans: def statement creates function"
   ]
  },
  {
   "attachments": {},
   "cell_type": "markdown",
   "id": "d264dbc1",
   "metadata": {},
   "source": [
    "4 What is the difference between a function and a function call?\n",
    "\n",
    "ans: a function is a block of code that returns a result.\n",
    "     a function call is the code used to pass control to a function."
   ]
  },
  {
   "attachments": {},
   "cell_type": "markdown",
   "id": "b1b40fa7",
   "metadata": {},
   "source": [
    "5 How many global scopes are there in a Python program? How many local\n",
    "scopes?\n",
    "\n",
    "ans: 1 global 1 local"
   ]
  },
  {
   "attachments": {},
   "cell_type": "markdown",
   "id": "7818b75a",
   "metadata": {},
   "source": [
    "6 What happens to variables in a local scope when the function call\n",
    "returns?\n",
    "\n",
    "ans: The local variables are destroyed"
   ]
  },
  {
   "attachments": {},
   "cell_type": "markdown",
   "id": "646aec74",
   "metadata": {},
   "source": [
    "7 What is the concept of a return value? Is it possible to have a\n",
    "return value in an expression?\n",
    "\n",
    "ans: A return is a value that a function returns to the calling script or function when it completes its task. yes"
   ]
  },
  {
   "attachments": {},
   "cell_type": "markdown",
   "id": "47b3f4b9",
   "metadata": {},
   "source": [
    "8 If a function does not have a return statement, what is the return\n",
    "value of a call to that function?\n",
    "\n",
    "ans: Undefined"
   ]
  },
  {
   "attachments": {},
   "cell_type": "markdown",
   "id": "b7f5639c",
   "metadata": {},
   "source": [
    "9 How do you make a function variable refer to the global variable?\n",
    "\n",
    "ans: by using the global keyword"
   ]
  },
  {
   "attachments": {},
   "cell_type": "markdown",
   "id": "0a996950",
   "metadata": {},
   "source": [
    "10 What is the data type of None?\n",
    "\n",
    "ans:None is a data type of its own Nonetype"
   ]
  },
  {
   "attachments": {},
   "cell_type": "markdown",
   "id": "ffdf2722",
   "metadata": {},
   "source": [
    "11 What does the sentence import areallyourpetsnamederic do?\n",
    "\n",
    "ans: imports a module named areallyourpetsnamederic"
   ]
  },
  {
   "attachments": {},
   "cell_type": "markdown",
   "id": "eac4b3bc",
   "metadata": {},
   "source": [
    "12 If you had a bacon() feature in a spam module, what would you call\n",
    "it after importing spam?\n",
    "\n",
    "ans: spam.bacon()"
   ]
  },
  {
   "attachments": {},
   "cell_type": "markdown",
   "id": "efb026ad",
   "metadata": {},
   "source": [
    "13 What can you do to save a programme from crashing if it encounters\n",
    "an error?\n",
    "\n",
    "ans: use try and except block"
   ]
  },
  {
   "attachments": {},
   "cell_type": "markdown",
   "id": "1f0b8e64",
   "metadata": {},
   "source": [
    "14 What is the purpose of the try clause? What is the purpose of the\n",
    "except clause?\n",
    "\n",
    "ans: to save a programe from crashing if it encounters any errors"
   ]
  }
 ],
 "metadata": {
  "kernelspec": {
   "display_name": "base",
   "language": "python",
   "name": "python3"
  },
  "language_info": {
   "name": "python",
   "version": "3.9.12 (main, Apr  4 2022, 05:22:27) [MSC v.1916 64 bit (AMD64)]"
  },
  "vscode": {
   "interpreter": {
    "hash": "a90aeebcf29d64a654773811cc170cb25061cb2498f10ac689db374c7bf325de"
   }
  }
 },
 "nbformat": 4,
 "nbformat_minor": 5
}
