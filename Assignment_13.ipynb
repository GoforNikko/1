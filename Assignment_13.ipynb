{
 "cells": [
  {
   "cell_type": "markdown",
   "metadata": {},
   "source": [
    "1\\. What advantages do Excel spreadsheets have over CSV spreadsheets?\n",
    "\n",
    "2.What do you pass to csv.reader() and csv.writer() to create reader and\n",
    "writer objects?\n",
    "\n",
    "3\\. What modes do File objects for reader and writer objects need to be\n",
    "opened in?\n",
    "\n",
    "4\\. What method takes a list argument and writes it to a CSV file?\n",
    "\n",
    "5\\. What do the keyword arguments delimiter and line terminator do?\n",
    "\n",
    "6\\. What function takes a string of JSON data and returns a Python data\n",
    "structure?\n",
    "\n",
    "7\\. What function takes a Python data structure and returns a string of\n",
    "JSON data?"
   ]
  }
 ],
 "nbformat": 4,
 "nbformat_minor": 5,
 "metadata": {}
}
