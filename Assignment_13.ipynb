{
 "cells": [
  {
   "cell_type": "markdown",
   "id": "b07ecbe5",
   "metadata": {},
   "source": [
    "1\\. What advantages do Excel spreadsheets have over CSV spreadsheets?"
   ]
  },
  {
   "attachments": {},
   "cell_type": "markdown",
   "id": "cc91ed22",
   "metadata": {},
   "source": [
    "Excel (XLS and XLSX) file formats are better for storing and analysing complex data.\n",
    "An Excel not only stores data but can also do operations on the data using macros, formulas etc\n",
    "CSV files are plain-text files, Does not contain formatting, formulas, macros, etc. It is also known as flat files"
   ]
  },
  {
   "attachments": {},
   "cell_type": "markdown",
   "id": "77562767",
   "metadata": {},
   "source": [
    "2.What do you pass to csv.reader() and csv.writer() to create reader and\n",
    "writer objects?"
   ]
  },
  {
   "cell_type": "markdown",
   "id": "fc4a627e",
   "metadata": {},
   "source": [
    "import csv \n",
    "with open('text.csv' ,'r') as file :\n",
    "    csv_file = csv.reader(file,delimiter=',')\n",
    "    for ele in csv_file:\n",
    "        print(ele)\n"
   ]
  },
  {
   "cell_type": "markdown",
   "id": "9db65cd0",
   "metadata": {},
   "source": [
    "3\\. What modes do File objects for reader and writer objects need to be\n",
    "opened in?"
   ]
  },
  {
   "attachments": {},
   "cell_type": "markdown",
   "id": "432803c8",
   "metadata": {},
   "source": [
    "csv.reader() the file objects need to be opened in read mode 'r'\n",
    "csv.writer() the file objects needed to be opened in write mode 'w'"
   ]
  },
  {
   "attachments": {},
   "cell_type": "markdown",
   "id": "8ae92fb0",
   "metadata": {},
   "source": [
    "4\\. What method takes a list argument and writes it to a CSV file?"
   ]
  },
  {
   "attachments": {},
   "cell_type": "markdown",
   "id": "337b869c",
   "metadata": {},
   "source": [
    " csv.writer class provides two methods for writing to CSV. They are writerow() and writerows(). writerow() method writes a single row at a time. Whereas writerows() method is used to write multiple rows at a time."
   ]
  },
  {
   "attachments": {},
   "cell_type": "markdown",
   "id": "5b1844fd",
   "metadata": {},
   "source": [
    "5\\. What do the keyword arguments delimiter and line terminator do?"
   ]
  },
  {
   "attachments": {},
   "cell_type": "markdown",
   "id": "cf2e5b8d",
   "metadata": {},
   "source": [
    "The delimiter is the character that appears between cells on a row. By default, the delimiter for a CSV file is a comma. The line terminator is the character that comes at the end of a row. By default, the line terminator is a newline"
   ]
  },
  {
   "attachments": {},
   "cell_type": "markdown",
   "id": "7f792aeb",
   "metadata": {},
   "source": [
    "6\\. What function takes a string of JSON data and returns a Python data\n",
    "structure?"
   ]
  },
  {
   "attachments": {},
   "cell_type": "markdown",
   "id": "a0ba9a5b",
   "metadata": {},
   "source": [
    "loads() method takes a string of JSON data and returns a Python data structure"
   ]
  },
  {
   "attachments": {},
   "cell_type": "markdown",
   "id": "0012f98b",
   "metadata": {},
   "source": [
    "7\\. What function takes a Python data structure and returns a string of\n",
    "JSON data?"
   ]
  },
  {
   "attachments": {},
   "cell_type": "markdown",
   "id": "dadeead2",
   "metadata": {},
   "source": [
    "dumps() method takes a python data structure and returns a string of JSON data"
   ]
  }
 ],
 "metadata": {
  "kernelspec": {
   "display_name": "base",
   "language": "python",
   "name": "python3"
  },
  "language_info": {
   "codemirror_mode": {
    "name": "ipython",
    "version": 3
   },
   "file_extension": ".py",
   "mimetype": "text/x-python",
   "name": "python",
   "nbconvert_exporter": "python",
   "pygments_lexer": "ipython3",
   "version": "3.9.12"
  },
  "vscode": {
   "interpreter": {
    "hash": "a90aeebcf29d64a654773811cc170cb25061cb2498f10ac689db374c7bf325de"
   }
  }
 },
 "nbformat": 4,
 "nbformat_minor": 5
}
