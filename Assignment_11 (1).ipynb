{
 "cells": [
  {
   "attachments": {},
   "cell_type": "markdown",
   "id": "10a624ab",
   "metadata": {},
   "source": [
    "1\\. Create an assert statement that throws an AssertionError if the\n",
    "variable spam is a negative integer."
   ]
  },
  {
   "cell_type": "code",
   "execution_count": 4,
   "id": "2ca9bdf0",
   "metadata": {},
   "outputs": [
    {
     "ename": "AssertionError",
     "evalue": "spam should not be a -ve number",
     "output_type": "error",
     "traceback": [
      "\u001b[1;31m---------------------------------------------------------------------------\u001b[0m",
      "\u001b[1;31mAssertionError\u001b[0m                            Traceback (most recent call last)",
      "\u001b[1;32md:\\OneDrive\\Desktop\\1\\Assignment_11 (1).ipynb Cell 3\u001b[0m in \u001b[0;36m<cell line: 2>\u001b[1;34m()\u001b[0m\n\u001b[0;32m      <a href='vscode-notebook-cell:/d%3A/OneDrive/Desktop/1/Assignment_11%20%281%29.ipynb#W6sZmlsZQ%3D%3D?line=0'>1</a>\u001b[0m spam \u001b[39m=\u001b[39m \u001b[39m-\u001b[39m\u001b[39m55\u001b[39m\n\u001b[1;32m----> <a href='vscode-notebook-cell:/d%3A/OneDrive/Desktop/1/Assignment_11%20%281%29.ipynb#W6sZmlsZQ%3D%3D?line=1'>2</a>\u001b[0m \u001b[39massert\u001b[39;00m spam \u001b[39m>\u001b[39m\u001b[39m=\u001b[39m\u001b[39m0\u001b[39m, \u001b[39m'\u001b[39m\u001b[39mspam should not be a -ve number\u001b[39m\u001b[39m'\u001b[39m\n",
      "\u001b[1;31mAssertionError\u001b[0m: spam should not be a -ve number"
     ]
    }
   ],
   "source": [
    "spam = -55\n",
    "assert spam >=0, 'spam should not be a -ve number'"
   ]
  },
  {
   "attachments": {},
   "cell_type": "markdown",
   "id": "2553a164",
   "metadata": {},
   "source": [
    "2\\. Write an assert statement that triggers an AssertionError if the\n",
    "variables eggs and bacon contain strings that are the same as each\n",
    "other, even if their cases are different (that is, 'hello' and 'hello'\n",
    "are considered the same, and 'goodbye' and 'GOODbye' are also considered\n",
    "the same)."
   ]
  },
  {
   "cell_type": "code",
   "execution_count": 8,
   "id": "6145bfe9",
   "metadata": {},
   "outputs": [],
   "source": [
    "def raise_assert(egg,bacon):\n",
    "    egg = egg.upper()\n",
    "    bacon = bacon.upper()\n",
    "    assert not(egg == bacon), 'Eggs/Bacon should not be same, which are same now'"
   ]
  },
  {
   "cell_type": "code",
   "execution_count": 9,
   "id": "17d1e1d9",
   "metadata": {},
   "outputs": [
    {
     "ename": "AssertionError",
     "evalue": "Eggs/Bacon should not be same, which are same now",
     "output_type": "error",
     "traceback": [
      "\u001b[1;31m---------------------------------------------------------------------------\u001b[0m",
      "\u001b[1;31mAssertionError\u001b[0m                            Traceback (most recent call last)",
      "\u001b[1;32md:\\OneDrive\\Desktop\\1\\Assignment_11 (1).ipynb Cell 6\u001b[0m in \u001b[0;36m<cell line: 1>\u001b[1;34m()\u001b[0m\n\u001b[1;32m----> <a href='vscode-notebook-cell:/d%3A/OneDrive/Desktop/1/Assignment_11%20%281%29.ipynb#X14sZmlsZQ%3D%3D?line=0'>1</a>\u001b[0m raise_assert(\u001b[39m'\u001b[39;49m\u001b[39mhello\u001b[39;49m\u001b[39m'\u001b[39;49m,\u001b[39m'\u001b[39;49m\u001b[39mHELLO\u001b[39;49m\u001b[39m'\u001b[39;49m)\n",
      "\u001b[1;32md:\\OneDrive\\Desktop\\1\\Assignment_11 (1).ipynb Cell 6\u001b[0m in \u001b[0;36mraise_assert\u001b[1;34m(egg, bacon)\u001b[0m\n\u001b[0;32m      <a href='vscode-notebook-cell:/d%3A/OneDrive/Desktop/1/Assignment_11%20%281%29.ipynb#X14sZmlsZQ%3D%3D?line=1'>2</a>\u001b[0m egg \u001b[39m=\u001b[39m egg\u001b[39m.\u001b[39mupper()\n\u001b[0;32m      <a href='vscode-notebook-cell:/d%3A/OneDrive/Desktop/1/Assignment_11%20%281%29.ipynb#X14sZmlsZQ%3D%3D?line=2'>3</a>\u001b[0m bacon \u001b[39m=\u001b[39m bacon\u001b[39m.\u001b[39mupper()\n\u001b[1;32m----> <a href='vscode-notebook-cell:/d%3A/OneDrive/Desktop/1/Assignment_11%20%281%29.ipynb#X14sZmlsZQ%3D%3D?line=3'>4</a>\u001b[0m \u001b[39massert\u001b[39;00m \u001b[39mnot\u001b[39;00m(egg \u001b[39m==\u001b[39m bacon), \u001b[39m'\u001b[39m\u001b[39mEggs/Bacon should not be same, which are same now\u001b[39m\u001b[39m'\u001b[39m\n",
      "\u001b[1;31mAssertionError\u001b[0m: Eggs/Bacon should not be same, which are same now"
     ]
    }
   ],
   "source": [
    "raise_assert('hello','HELLO')"
   ]
  },
  {
   "cell_type": "code",
   "execution_count": 10,
   "id": "d72a123f",
   "metadata": {},
   "outputs": [
    {
     "ename": "AssertionError",
     "evalue": "Eggs/Bacon should not be same, which are same now",
     "output_type": "error",
     "traceback": [
      "\u001b[1;31m---------------------------------------------------------------------------\u001b[0m",
      "\u001b[1;31mAssertionError\u001b[0m                            Traceback (most recent call last)",
      "\u001b[1;32md:\\OneDrive\\Desktop\\1\\Assignment_11 (1).ipynb Cell 7\u001b[0m in \u001b[0;36m<cell line: 1>\u001b[1;34m()\u001b[0m\n\u001b[1;32m----> <a href='vscode-notebook-cell:/d%3A/OneDrive/Desktop/1/Assignment_11%20%281%29.ipynb#X20sZmlsZQ%3D%3D?line=0'>1</a>\u001b[0m raise_assert(\u001b[39m'\u001b[39;49m\u001b[39mgoodbye\u001b[39;49m\u001b[39m'\u001b[39;49m,\u001b[39m'\u001b[39;49m\u001b[39mGOODbye\u001b[39;49m\u001b[39m'\u001b[39;49m)\n",
      "\u001b[1;32md:\\OneDrive\\Desktop\\1\\Assignment_11 (1).ipynb Cell 7\u001b[0m in \u001b[0;36mraise_assert\u001b[1;34m(egg, bacon)\u001b[0m\n\u001b[0;32m      <a href='vscode-notebook-cell:/d%3A/OneDrive/Desktop/1/Assignment_11%20%281%29.ipynb#X20sZmlsZQ%3D%3D?line=1'>2</a>\u001b[0m egg \u001b[39m=\u001b[39m egg\u001b[39m.\u001b[39mupper()\n\u001b[0;32m      <a href='vscode-notebook-cell:/d%3A/OneDrive/Desktop/1/Assignment_11%20%281%29.ipynb#X20sZmlsZQ%3D%3D?line=2'>3</a>\u001b[0m bacon \u001b[39m=\u001b[39m bacon\u001b[39m.\u001b[39mupper()\n\u001b[1;32m----> <a href='vscode-notebook-cell:/d%3A/OneDrive/Desktop/1/Assignment_11%20%281%29.ipynb#X20sZmlsZQ%3D%3D?line=3'>4</a>\u001b[0m \u001b[39massert\u001b[39;00m \u001b[39mnot\u001b[39;00m(egg \u001b[39m==\u001b[39m bacon), \u001b[39m'\u001b[39m\u001b[39mEggs/Bacon should not be same, which are same now\u001b[39m\u001b[39m'\u001b[39m\n",
      "\u001b[1;31mAssertionError\u001b[0m: Eggs/Bacon should not be same, which are same now"
     ]
    }
   ],
   "source": [
    "raise_assert('goodbye','GOODbye')"
   ]
  },
  {
   "attachments": {},
   "cell_type": "markdown",
   "id": "72c03e2f",
   "metadata": {},
   "source": [
    "3\\. Create an assert statement that throws an AssertionError every time."
   ]
  },
  {
   "cell_type": "code",
   "execution_count": 11,
   "id": "e9bfe72b",
   "metadata": {},
   "outputs": [
    {
     "ename": "AssertionError",
     "evalue": "always shows assertion Error",
     "output_type": "error",
     "traceback": [
      "\u001b[1;31m---------------------------------------------------------------------------\u001b[0m",
      "\u001b[1;31mAssertionError\u001b[0m                            Traceback (most recent call last)",
      "\u001b[1;32md:\\OneDrive\\Desktop\\1\\Assignment_11 (1).ipynb Cell 9\u001b[0m in \u001b[0;36m<cell line: 3>\u001b[1;34m()\u001b[0m\n\u001b[0;32m      <a href='vscode-notebook-cell:/d%3A/OneDrive/Desktop/1/Assignment_11%20%281%29.ipynb#X23sZmlsZQ%3D%3D?line=0'>1</a>\u001b[0m \u001b[39mdef\u001b[39;00m \u001b[39massert_always\u001b[39m():\n\u001b[0;32m      <a href='vscode-notebook-cell:/d%3A/OneDrive/Desktop/1/Assignment_11%20%281%29.ipynb#X23sZmlsZQ%3D%3D?line=1'>2</a>\u001b[0m     \u001b[39massert\u001b[39;00m \u001b[39mFalse\u001b[39;00m, \u001b[39m'\u001b[39m\u001b[39malways shows assertion Error\u001b[39m\u001b[39m'\u001b[39m\n\u001b[1;32m----> <a href='vscode-notebook-cell:/d%3A/OneDrive/Desktop/1/Assignment_11%20%281%29.ipynb#X23sZmlsZQ%3D%3D?line=2'>3</a>\u001b[0m assert_always()\n",
      "\u001b[1;32md:\\OneDrive\\Desktop\\1\\Assignment_11 (1).ipynb Cell 9\u001b[0m in \u001b[0;36massert_always\u001b[1;34m()\u001b[0m\n\u001b[0;32m      <a href='vscode-notebook-cell:/d%3A/OneDrive/Desktop/1/Assignment_11%20%281%29.ipynb#X23sZmlsZQ%3D%3D?line=0'>1</a>\u001b[0m \u001b[39mdef\u001b[39;00m \u001b[39massert_always\u001b[39m():\n\u001b[1;32m----> <a href='vscode-notebook-cell:/d%3A/OneDrive/Desktop/1/Assignment_11%20%281%29.ipynb#X23sZmlsZQ%3D%3D?line=1'>2</a>\u001b[0m     \u001b[39massert\u001b[39;00m \u001b[39mFalse\u001b[39;00m, \u001b[39m'\u001b[39m\u001b[39malways shows assertion Error\u001b[39m\u001b[39m'\u001b[39m\n",
      "\u001b[1;31mAssertionError\u001b[0m: always shows assertion Error"
     ]
    }
   ],
   "source": [
    "def assert_always():\n",
    "    assert False, 'always shows assertion Error'\n",
    "assert_always()"
   ]
  },
  {
   "attachments": {},
   "cell_type": "markdown",
   "id": "14b63cb3",
   "metadata": {},
   "source": [
    "4\\. What are the two lines that must be present in your software in\n",
    "order to call logging.debug()?"
   ]
  },
  {
   "cell_type": "code",
   "execution_count": 12,
   "id": "b566025f",
   "metadata": {},
   "outputs": [],
   "source": [
    "import logging\n",
    "logging.basicConfig(filename = 'application_log.txt' , level = logging.DEBUG, format = '%(asctime)s - %(levelname)s - %(message)s')"
   ]
  },
  {
   "cell_type": "markdown",
   "id": "371a152a",
   "metadata": {},
   "source": [
    "5\\. What are the two lines that your program must have in order to have\n",
    "logging.debug() send a logging message to a file named programLog.txt?"
   ]
  },
  {
   "cell_type": "code",
   "execution_count": 13,
   "id": "2975126b",
   "metadata": {},
   "outputs": [],
   "source": [
    "import logging\n",
    "logging.basicConfig(filename = 'application_log.txt' , level = logging.DEBUG, format = '%(asctime)s - %(levelname)s - %(message)s')\n",
    "logging.debug(\"data inserted succesfully\")\n",
    "logging.debug('connection closed succesfully')"
   ]
  },
  {
   "cell_type": "code",
   "execution_count": 14,
   "id": "ab32124a",
   "metadata": {},
   "outputs": [
    {
     "name": "stdout",
     "output_type": "stream",
     "text": [
      "2023-02-18 20:15:50,927 - DEBUG - data inserted succesfully\n",
      "\n",
      "2023-02-18 20:15:50,927 - DEBUG - connection closed succesfully\n",
      "\n"
     ]
    }
   ],
   "source": [
    "file = open (\"./application_log.txt\",\"r\")\n",
    "for record in file.readlines():\n",
    "    print(record)"
   ]
  },
  {
   "cell_type": "markdown",
   "id": "adfbe384",
   "metadata": {},
   "source": [
    "6\\. What are the five levels of logging?"
   ]
  },
  {
   "attachments": {},
   "cell_type": "markdown",
   "id": "caad9fc5",
   "metadata": {},
   "source": [
    "five levels of logging are as follows - CRITICAL(50), ERROR(40), WARNING(30), INFO(20), DEBUG(10), NOTSET(0)"
   ]
  },
  {
   "attachments": {},
   "cell_type": "markdown",
   "id": "3e883c58",
   "metadata": {},
   "source": [
    "7\\. What line of code would you add to your software to disable all\n",
    "logging messages?"
   ]
  },
  {
   "cell_type": "code",
   "execution_count": 15,
   "id": "5793ec85",
   "metadata": {},
   "outputs": [],
   "source": [
    "logging.disable = True"
   ]
  },
  {
   "attachments": {},
   "cell_type": "markdown",
   "id": "4e77ccd7",
   "metadata": {},
   "source": [
    "8.Why is using logging messages better than using print() to display the\n",
    "same message?"
   ]
  },
  {
   "attachments": {},
   "cell_type": "markdown",
   "id": "a039541f",
   "metadata": {},
   "source": [
    " you can disable logging messages without removing the logging function, whereas you need to manually remove print() statements print is used to display particular message logging is used to record all events "
   ]
  },
  {
   "attachments": {},
   "cell_type": "markdown",
   "id": "9f1494f1",
   "metadata": {},
   "source": [
    "9\\. What are the differences between the Step Over, Step In, and Step\n",
    "Out buttons in the debugger?"
   ]
  },
  {
   "attachments": {},
   "cell_type": "markdown",
   "id": "f487d72b",
   "metadata": {},
   "source": [
    "Step in - Step In button will cause the debugger to execute the next line of code and then pause again.\n",
    "Step Over - Step Over button will execute the next line of code, similar to the Step In button. However, if the next line of code is a function call, the Step Over button will “step over” the code in the function. The function’s code will be executed at full speed, and the debugger will pause as soon as the function call returns.\n",
    "Step out - Step Out button will cause the debugger to execute lines of code at full speed until it returns from the current function."
   ]
  },
  {
   "attachments": {},
   "cell_type": "markdown",
   "id": "24c70a19",
   "metadata": {},
   "source": [
    "10.After you click Continue, when will the debugger stop ?"
   ]
  },
  {
   "attachments": {},
   "cell_type": "markdown",
   "id": "acdaf87d",
   "metadata": {},
   "source": [
    "This will cause the program to continue running normally, without pausing for debugging untill it terminates or reaches a breakpoint"
   ]
  },
  {
   "attachments": {},
   "cell_type": "markdown",
   "id": "d0fa1baf",
   "metadata": {},
   "source": [
    "11\\. What is the concept of a breakpoint?"
   ]
  },
  {
   "attachments": {},
   "cell_type": "markdown",
   "id": "cc97a9b2",
   "metadata": {},
   "source": [
    "Breakpoint is a setting on a line of code that causes the debugger to pause when the program execution reaches the line"
   ]
  }
 ],
 "metadata": {
  "kernelspec": {
   "display_name": "base",
   "language": "python",
   "name": "python3"
  },
  "language_info": {
   "codemirror_mode": {
    "name": "ipython",
    "version": 3
   },
   "file_extension": ".py",
   "mimetype": "text/x-python",
   "name": "python",
   "nbconvert_exporter": "python",
   "pygments_lexer": "ipython3",
   "version": "3.9.12"
  },
  "vscode": {
   "interpreter": {
    "hash": "a90aeebcf29d64a654773811cc170cb25061cb2498f10ac689db374c7bf325de"
   }
  }
 },
 "nbformat": 4,
 "nbformat_minor": 5
}
