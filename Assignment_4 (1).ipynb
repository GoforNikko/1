{
 "cells": [
  {
   "cell_type": "markdown",
   "id": "5c494684",
   "metadata": {},
   "source": [
    "1\\. What exactly is \\[\\]?\n",
    "\n",
    "2\\. In a list of values stored in a variable called spam, how would you\n",
    "assign the value 'hello' as the third value? (Assume \\[2, 4, 6, 8, 10\\]\n",
    "are in spam.)\n",
    "\n",
    "Let's pretend the spam includes the list \\['a', 'b', 'c', 'd'\\] for the\n",
    "next three queries.\n",
    "\n",
    "3\\. What is the value of spam\\[int(int('3' \\* 2) / 11)\\]?\n",
    "\n",
    "4\\. What is the value of spam\\[-1\\]?\n",
    "\n",
    "5\\. What is the value of spam\\[:2\\]?\n",
    "\n",
    "Let's pretend bacon has the list \\[3.14, 'cat,' 11, 'cat,' True\\] for\n",
    "the next three questions.\n",
    "\n",
    "6\\. What is the value of bacon.index('cat')?\n",
    "\n",
    "7\\. How does bacon.append(99) change the look of the list value in\n",
    "bacon?\n",
    "\n",
    "8\\. How does bacon.remove('cat') change the look of the list in bacon?\n",
    "\n",
    "9\\. What are the list concatenation and list replication operators?\n",
    "\n",
    "10\\. What is difference between the list methods append() and insert()?\n",
    "\n",
    "11\\. What are the two methods for removing items from a list?\n",
    "\n",
    "12\\. Describe how list values and string values are identical.\n",
    "\n",
    "13\\. What's the difference between tuples and lists?\n",
    "\n",
    "14\\. How do you type a tuple value that only contains the integer 42?\n",
    "\n",
    "15\\. How do you get a list value's tuple form? How do you get a tuple\n",
    "value's list form?\n",
    "\n",
    "16\\. Variables that \"contain\" list values are not necessarily lists\n",
    "themselves. Instead, what do they contain?\n",
    "\n",
    "17\\. How do you distinguish between copy.copy() and copy.deepcopy()?"
   ]
  },
  {
   "cell_type": "markdown",
   "id": "53b183f8",
   "metadata": {},
   "source": [
    "1\\. What exactly is \\[]?\n",
    "\n",
    "ans : [] is a empty list"
   ]
  },
  {
   "cell_type": "markdown",
   "id": "214b4f3b",
   "metadata": {},
   "source": [
    "2\\. In a list of values stored in a variable called spam, how would you\n",
    "assign the value 'hello' as the third value? (Assume \\[2, 4, 6, 8, 10\\]\n",
    "are in spam.)\n"
   ]
  },
  {
   "cell_type": "code",
   "execution_count": 1,
   "id": "005a1b4c",
   "metadata": {},
   "outputs": [
    {
     "name": "stdout",
     "output_type": "stream",
     "text": [
      "[2, 4, 'hello', 8, 10]\n"
     ]
    }
   ],
   "source": [
    "spam = [2,4,6,8,10]\n",
    "spam[2] =\"hello\" \n",
    "print(spam)"
   ]
  },
  {
   "cell_type": "markdown",
   "id": "7876ccdb",
   "metadata": {},
   "source": [
    "3\\. What is the value of spam\\[int(int('3' \\* 2) / 11)\\]?"
   ]
  },
  {
   "cell_type": "code",
   "execution_count": 9,
   "id": "e16ccb41",
   "metadata": {},
   "outputs": [],
   "source": [
    "spam = ['a','b','c','d']"
   ]
  },
  {
   "cell_type": "code",
   "execution_count": 10,
   "id": "3fd6e14b",
   "metadata": {},
   "outputs": [
    {
     "data": {
      "text/plain": [
       "'d'"
      ]
     },
     "execution_count": 10,
     "metadata": {},
     "output_type": "execute_result"
    }
   ],
   "source": [
    "spam[int(int('3' * 2) / 11)]"
   ]
  },
  {
   "cell_type": "markdown",
   "id": "ddf92c46",
   "metadata": {},
   "source": [
    "4\\. What is the value of spam\\[-1\\]?\n",
    "\n",
    "ans : d"
   ]
  },
  {
   "cell_type": "markdown",
   "id": "5abdd348",
   "metadata": {},
   "source": [
    "5\\. What is the value of spam\\[:2\\]?\n",
    "\n",
    "asn : a,b"
   ]
  },
  {
   "cell_type": "markdown",
   "id": "4452ef65",
   "metadata": {},
   "source": [
    "6\\. What is the value of bacon.index('cat')?"
   ]
  },
  {
   "cell_type": "code",
   "execution_count": 13,
   "id": "7d52f644",
   "metadata": {},
   "outputs": [],
   "source": [
    "bacon = [3.14, 'cat', 11, 'cat', True]"
   ]
  },
  {
   "cell_type": "code",
   "execution_count": 14,
   "id": "de99db4d",
   "metadata": {},
   "outputs": [
    {
     "data": {
      "text/plain": [
       "1"
      ]
     },
     "execution_count": 14,
     "metadata": {},
     "output_type": "execute_result"
    }
   ],
   "source": [
    "bacon.index('cat')"
   ]
  },
  {
   "cell_type": "markdown",
   "id": "6752402e",
   "metadata": {},
   "source": [
    "7\\. How does bacon.append(99) change the look of the list value in\n",
    "bacon?"
   ]
  },
  {
   "cell_type": "code",
   "execution_count": 16,
   "id": "c047832a",
   "metadata": {},
   "outputs": [
    {
     "name": "stdout",
     "output_type": "stream",
     "text": [
      "[3.14, 11, 'cat', True, 99]\n"
     ]
    }
   ],
   "source": [
    "bacon.append(99)\n",
    "print(bacon)"
   ]
  },
  {
   "cell_type": "markdown",
   "id": "ca2bde67",
   "metadata": {},
   "source": [
    "8\\. How does bacon.remove('cat') change the look of the list in bacon?"
   ]
  },
  {
   "cell_type": "code",
   "execution_count": 17,
   "id": "08769547",
   "metadata": {},
   "outputs": [
    {
     "name": "stdout",
     "output_type": "stream",
     "text": [
      "[3.14, 11, True, 99]\n"
     ]
    }
   ],
   "source": [
    "bacon.remove('cat')\n",
    "print(bacon)"
   ]
  },
  {
   "cell_type": "markdown",
   "id": "26450fec",
   "metadata": {},
   "source": [
    "9\\. What are the list concatenation and list replication operators?"
   ]
  },
  {
   "cell_type": "code",
   "execution_count": null,
   "id": "80f39d4d",
   "metadata": {},
   "outputs": [],
   "source": [
    "concatenation = +\n",
    "replication = *"
   ]
  },
  {
   "cell_type": "markdown",
   "id": "a18c4cad",
   "metadata": {},
   "source": [
    "10\\. What is difference between the list methods append() and insert()?"
   ]
  },
  {
   "cell_type": "markdown",
   "id": "c0a3d63a",
   "metadata": {},
   "source": [
    "append method appends the object at the end of list \n",
    "Insert method accepts two arguments index at which the element needs to be inserted and the object to insert."
   ]
  },
  {
   "cell_type": "markdown",
   "id": "f729a160",
   "metadata": {},
   "source": [
    "11\\. What are the two methods for removing items from a list?"
   ]
  },
  {
   "cell_type": "markdown",
   "id": "f05f46a2",
   "metadata": {},
   "source": [
    "List.remove(object) \n",
    "List.pop(index = -1)"
   ]
  },
  {
   "cell_type": "markdown",
   "id": "b4e929d2",
   "metadata": {},
   "source": [
    "12\\. Describe how list values and string values are identical."
   ]
  },
  {
   "cell_type": "markdown",
   "id": "c5db1764",
   "metadata": {},
   "source": [
    "list is a collection of values and string is a collection of characters both are iterable andcan be used  "
   ]
  },
  {
   "cell_type": "markdown",
   "id": "72151768",
   "metadata": {},
   "source": [
    "13\\. What's the difference between tuples and lists?"
   ]
  },
  {
   "cell_type": "markdown",
   "id": "33a66e44",
   "metadata": {},
   "source": [
    "tuples are immutable whre as list is mutable"
   ]
  },
  {
   "cell_type": "markdown",
   "id": "d5781fe3",
   "metadata": {},
   "source": [
    "14\\. How do you type a tuple value that only contains the integer 42?"
   ]
  },
  {
   "cell_type": "code",
   "execution_count": 18,
   "id": "0ed8a7ab",
   "metadata": {},
   "outputs": [
    {
     "name": "stdout",
     "output_type": "stream",
     "text": [
      "tuple[42]\n"
     ]
    }
   ],
   "source": [
    "tup = tuple[42]\n",
    "print(tup)"
   ]
  },
  {
   "cell_type": "markdown",
   "id": "cdc6c95a",
   "metadata": {},
   "source": [
    "15\\. How do you get a list value's tuple form? How do you get a tuple\n",
    "value's list form?\n"
   ]
  },
  {
   "cell_type": "code",
   "execution_count": 19,
   "id": "a3fa55bc",
   "metadata": {},
   "outputs": [
    {
     "data": {
      "text/plain": [
       "list"
      ]
     },
     "execution_count": 19,
     "metadata": {},
     "output_type": "execute_result"
    }
   ],
   "source": [
    "b = tuple([42, 3, 5])\n",
    "type(b)  \n",
    "c = list(b)\n",
    "type(c) "
   ]
  },
  {
   "cell_type": "markdown",
   "id": "dc1d485e",
   "metadata": {},
   "source": [
    "16\\. Variables that \"contain\" list values are not necessarily lists\n",
    "themselves. Instead, what do they contain?"
   ]
  },
  {
   "cell_type": "code",
   "execution_count": 20,
   "id": "20d89b77",
   "metadata": {},
   "outputs": [
    {
     "name": "stdout",
     "output_type": "stream",
     "text": [
      "[1, 2, 3]\n",
      "2627883424448\n"
     ]
    }
   ],
   "source": [
    "var = [1,2,3]\n",
    "print(var)\n",
    "print(id(var))"
   ]
  },
  {
   "cell_type": "markdown",
   "id": "22f4eede",
   "metadata": {},
   "source": [
    "17\\. How do you distinguish between copy.copy() and copy.deepcopy()?"
   ]
  },
  {
   "cell_type": "markdown",
   "id": "58d2f4ca",
   "metadata": {},
   "source": [
    "copy() returns a shallow copy of list and deepcopy() return a deep copy of list"
   ]
  }
 ],
 "metadata": {
  "kernelspec": {
   "display_name": "Python 3 (ipykernel)",
   "language": "python",
   "name": "python3"
  },
  "language_info": {
   "codemirror_mode": {
    "name": "ipython",
    "version": 3
   },
   "file_extension": ".py",
   "mimetype": "text/x-python",
   "name": "python",
   "nbconvert_exporter": "python",
   "pygments_lexer": "ipython3",
   "version": "3.9.12"
  }
 },
 "nbformat": 4,
 "nbformat_minor": 5
}
